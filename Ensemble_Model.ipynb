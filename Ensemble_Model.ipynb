{
 "cells": [
  {
   "cell_type": "code",
   "execution_count": 32,
   "id": "84d0dbf0",
   "metadata": {},
   "outputs": [],
   "source": [
    "from Annotation_Untils import singular_comment_with_annotation, singular_comment_without_annotation, annotate_comment, auto_label\n",
    "from DataCleaning_Untils import clean_comment\n",
    "\n",
    "import pandas as pd\n",
    "import os\n",
    "import torch\n",
    "import numpy as np\n",
    "import seaborn as sns\n",
    "import matplotlib.pyplot as plt\n",
    "\n",
    "from transformers import BertTokenizer, BertModel\n",
    "from tqdm import tqdm\n",
    "from sklearn.preprocessing import LabelEncoder\n",
    "from sklearn.model_selection import train_test_split\n",
    "from sklearn.svm import SVC\n",
    "from sklearn.metrics import classification_report, confusion_matrix, accuracy_score"
   ]
  },
  {
   "cell_type": "code",
   "execution_count": 33,
   "id": "b8a9c7ff",
   "metadata": {},
   "outputs": [
    {
     "data": {
      "text/html": [
       "<div>\n",
       "<style scoped>\n",
       "    .dataframe tbody tr th:only-of-type {\n",
       "        vertical-align: middle;\n",
       "    }\n",
       "\n",
       "    .dataframe tbody tr th {\n",
       "        vertical-align: top;\n",
       "    }\n",
       "\n",
       "    .dataframe thead th {\n",
       "        text-align: right;\n",
       "    }\n",
       "</style>\n",
       "<table border=\"1\" class=\"dataframe\">\n",
       "  <thead>\n",
       "    <tr style=\"text-align: right;\">\n",
       "      <th></th>\n",
       "      <th>id</th>\n",
       "      <th>target</th>\n",
       "      <th>comment_text</th>\n",
       "      <th>severe_toxicity</th>\n",
       "      <th>obscene</th>\n",
       "      <th>identity_attack</th>\n",
       "      <th>insult</th>\n",
       "      <th>threat</th>\n",
       "      <th>asian</th>\n",
       "      <th>atheist</th>\n",
       "      <th>...</th>\n",
       "      <th>article_id</th>\n",
       "      <th>rating</th>\n",
       "      <th>funny</th>\n",
       "      <th>wow</th>\n",
       "      <th>sad</th>\n",
       "      <th>likes</th>\n",
       "      <th>disagree</th>\n",
       "      <th>sexual_explicit</th>\n",
       "      <th>identity_annotator_count</th>\n",
       "      <th>toxicity_annotator_count</th>\n",
       "    </tr>\n",
       "  </thead>\n",
       "  <tbody>\n",
       "    <tr>\n",
       "      <th>0</th>\n",
       "      <td>59848</td>\n",
       "      <td>0.000000</td>\n",
       "      <td>This is so cool. It's like, 'would you want your mother to read this??' Really great idea, well done!</td>\n",
       "      <td>0.000000</td>\n",
       "      <td>0.0</td>\n",
       "      <td>0.000000</td>\n",
       "      <td>0.00000</td>\n",
       "      <td>0.0</td>\n",
       "      <td>NaN</td>\n",
       "      <td>NaN</td>\n",
       "      <td>...</td>\n",
       "      <td>2006</td>\n",
       "      <td>rejected</td>\n",
       "      <td>0</td>\n",
       "      <td>0</td>\n",
       "      <td>0</td>\n",
       "      <td>0</td>\n",
       "      <td>0</td>\n",
       "      <td>0.0</td>\n",
       "      <td>0</td>\n",
       "      <td>4</td>\n",
       "    </tr>\n",
       "    <tr>\n",
       "      <th>1</th>\n",
       "      <td>59849</td>\n",
       "      <td>0.000000</td>\n",
       "      <td>Thank you!! This would make my life a lot less anxiety-inducing. Keep it up, and don't let anyone get in your way!</td>\n",
       "      <td>0.000000</td>\n",
       "      <td>0.0</td>\n",
       "      <td>0.000000</td>\n",
       "      <td>0.00000</td>\n",
       "      <td>0.0</td>\n",
       "      <td>NaN</td>\n",
       "      <td>NaN</td>\n",
       "      <td>...</td>\n",
       "      <td>2006</td>\n",
       "      <td>rejected</td>\n",
       "      <td>0</td>\n",
       "      <td>0</td>\n",
       "      <td>0</td>\n",
       "      <td>0</td>\n",
       "      <td>0</td>\n",
       "      <td>0.0</td>\n",
       "      <td>0</td>\n",
       "      <td>4</td>\n",
       "    </tr>\n",
       "    <tr>\n",
       "      <th>2</th>\n",
       "      <td>59852</td>\n",
       "      <td>0.000000</td>\n",
       "      <td>This is such an urgent design problem; kudos to you for taking it on. Very impressive!</td>\n",
       "      <td>0.000000</td>\n",
       "      <td>0.0</td>\n",
       "      <td>0.000000</td>\n",
       "      <td>0.00000</td>\n",
       "      <td>0.0</td>\n",
       "      <td>NaN</td>\n",
       "      <td>NaN</td>\n",
       "      <td>...</td>\n",
       "      <td>2006</td>\n",
       "      <td>rejected</td>\n",
       "      <td>0</td>\n",
       "      <td>0</td>\n",
       "      <td>0</td>\n",
       "      <td>0</td>\n",
       "      <td>0</td>\n",
       "      <td>0.0</td>\n",
       "      <td>0</td>\n",
       "      <td>4</td>\n",
       "    </tr>\n",
       "    <tr>\n",
       "      <th>3</th>\n",
       "      <td>59855</td>\n",
       "      <td>0.000000</td>\n",
       "      <td>Is this something I'll be able to install on my site? When will you be releasing it?</td>\n",
       "      <td>0.000000</td>\n",
       "      <td>0.0</td>\n",
       "      <td>0.000000</td>\n",
       "      <td>0.00000</td>\n",
       "      <td>0.0</td>\n",
       "      <td>NaN</td>\n",
       "      <td>NaN</td>\n",
       "      <td>...</td>\n",
       "      <td>2006</td>\n",
       "      <td>rejected</td>\n",
       "      <td>0</td>\n",
       "      <td>0</td>\n",
       "      <td>0</td>\n",
       "      <td>0</td>\n",
       "      <td>0</td>\n",
       "      <td>0.0</td>\n",
       "      <td>0</td>\n",
       "      <td>4</td>\n",
       "    </tr>\n",
       "    <tr>\n",
       "      <th>4</th>\n",
       "      <td>59856</td>\n",
       "      <td>0.893617</td>\n",
       "      <td>haha you guys are a bunch of losers.</td>\n",
       "      <td>0.021277</td>\n",
       "      <td>0.0</td>\n",
       "      <td>0.021277</td>\n",
       "      <td>0.87234</td>\n",
       "      <td>0.0</td>\n",
       "      <td>0.0</td>\n",
       "      <td>0.0</td>\n",
       "      <td>...</td>\n",
       "      <td>2006</td>\n",
       "      <td>rejected</td>\n",
       "      <td>0</td>\n",
       "      <td>0</td>\n",
       "      <td>0</td>\n",
       "      <td>1</td>\n",
       "      <td>0</td>\n",
       "      <td>0.0</td>\n",
       "      <td>4</td>\n",
       "      <td>47</td>\n",
       "    </tr>\n",
       "  </tbody>\n",
       "</table>\n",
       "<p>5 rows × 45 columns</p>\n",
       "</div>"
      ],
      "text/plain": [
       "      id    target  \\\n",
       "0  59848  0.000000   \n",
       "1  59849  0.000000   \n",
       "2  59852  0.000000   \n",
       "3  59855  0.000000   \n",
       "4  59856  0.893617   \n",
       "\n",
       "                                                                                                         comment_text  \\\n",
       "0               This is so cool. It's like, 'would you want your mother to read this??' Really great idea, well done!   \n",
       "1  Thank you!! This would make my life a lot less anxiety-inducing. Keep it up, and don't let anyone get in your way!   \n",
       "2                              This is such an urgent design problem; kudos to you for taking it on. Very impressive!   \n",
       "3                                Is this something I'll be able to install on my site? When will you be releasing it?   \n",
       "4                                                                                haha you guys are a bunch of losers.   \n",
       "\n",
       "   severe_toxicity  obscene  identity_attack   insult  threat  asian  atheist  \\\n",
       "0         0.000000      0.0         0.000000  0.00000     0.0    NaN      NaN   \n",
       "1         0.000000      0.0         0.000000  0.00000     0.0    NaN      NaN   \n",
       "2         0.000000      0.0         0.000000  0.00000     0.0    NaN      NaN   \n",
       "3         0.000000      0.0         0.000000  0.00000     0.0    NaN      NaN   \n",
       "4         0.021277      0.0         0.021277  0.87234     0.0    0.0      0.0   \n",
       "\n",
       "   ...  article_id    rating  funny  wow  sad  likes  disagree  \\\n",
       "0  ...        2006  rejected      0    0    0      0         0   \n",
       "1  ...        2006  rejected      0    0    0      0         0   \n",
       "2  ...        2006  rejected      0    0    0      0         0   \n",
       "3  ...        2006  rejected      0    0    0      0         0   \n",
       "4  ...        2006  rejected      0    0    0      1         0   \n",
       "\n",
       "   sexual_explicit  identity_annotator_count  toxicity_annotator_count  \n",
       "0              0.0                         0                         4  \n",
       "1              0.0                         0                         4  \n",
       "2              0.0                         0                         4  \n",
       "3              0.0                         0                         4  \n",
       "4              0.0                         4                        47  \n",
       "\n",
       "[5 rows x 45 columns]"
      ]
     },
     "execution_count": 33,
     "metadata": {},
     "output_type": "execute_result"
    }
   ],
   "source": [
    "path = os.path.join(os.getcwd(), 'Data', 'Train', 'train.csv') # Adjust the path as needed\n",
    "df = pd.read_csv(path)\n",
    "df = df.dropna(subset=['comment_text'])\n",
    "df.head()"
   ]
  },
  {
   "cell_type": "code",
   "execution_count": 34,
   "id": "ee2b086b",
   "metadata": {},
   "outputs": [],
   "source": [
    "df = df[['id', 'comment_text']]"
   ]
  },
  {
   "cell_type": "code",
   "execution_count": 35,
   "id": "db35a327",
   "metadata": {},
   "outputs": [
    {
     "data": {
      "text/html": [
       "<div>\n",
       "<style scoped>\n",
       "    .dataframe tbody tr th:only-of-type {\n",
       "        vertical-align: middle;\n",
       "    }\n",
       "\n",
       "    .dataframe tbody tr th {\n",
       "        vertical-align: top;\n",
       "    }\n",
       "\n",
       "    .dataframe thead th {\n",
       "        text-align: right;\n",
       "    }\n",
       "</style>\n",
       "<table border=\"1\" class=\"dataframe\">\n",
       "  <thead>\n",
       "    <tr style=\"text-align: right;\">\n",
       "      <th></th>\n",
       "      <th>id</th>\n",
       "      <th>comment_text</th>\n",
       "    </tr>\n",
       "  </thead>\n",
       "  <tbody>\n",
       "    <tr>\n",
       "      <th>0</th>\n",
       "      <td>59848</td>\n",
       "      <td>This is so cool. It's like, 'would you want your mother to read this??' Really great idea, well done!</td>\n",
       "    </tr>\n",
       "    <tr>\n",
       "      <th>1</th>\n",
       "      <td>59849</td>\n",
       "      <td>Thank you!! This would make my life a lot less anxiety-inducing. Keep it up, and don't let anyone get in your way!</td>\n",
       "    </tr>\n",
       "    <tr>\n",
       "      <th>2</th>\n",
       "      <td>59852</td>\n",
       "      <td>This is such an urgent design problem; kudos to you for taking it on. Very impressive!</td>\n",
       "    </tr>\n",
       "    <tr>\n",
       "      <th>3</th>\n",
       "      <td>59855</td>\n",
       "      <td>Is this something I'll be able to install on my site? When will you be releasing it?</td>\n",
       "    </tr>\n",
       "    <tr>\n",
       "      <th>4</th>\n",
       "      <td>59856</td>\n",
       "      <td>haha you guys are a bunch of losers.</td>\n",
       "    </tr>\n",
       "  </tbody>\n",
       "</table>\n",
       "</div>"
      ],
      "text/plain": [
       "      id  \\\n",
       "0  59848   \n",
       "1  59849   \n",
       "2  59852   \n",
       "3  59855   \n",
       "4  59856   \n",
       "\n",
       "                                                                                                         comment_text  \n",
       "0               This is so cool. It's like, 'would you want your mother to read this??' Really great idea, well done!  \n",
       "1  Thank you!! This would make my life a lot less anxiety-inducing. Keep it up, and don't let anyone get in your way!  \n",
       "2                              This is such an urgent design problem; kudos to you for taking it on. Very impressive!  \n",
       "3                                Is this something I'll be able to install on my site? When will you be releasing it?  \n",
       "4                                                                                haha you guys are a bunch of losers.  "
      ]
     },
     "execution_count": 35,
     "metadata": {},
     "output_type": "execute_result"
    }
   ],
   "source": [
    "df.head()"
   ]
  },
  {
   "cell_type": "code",
   "execution_count": 36,
   "id": "a1c8a3e0",
   "metadata": {},
   "outputs": [],
   "source": [
    "flag_loader = True # Set to True to load in cleaned csv, else it will clean the data (AGAIN!)\n",
    "\n",
    "if flag_loader:\n",
    "    df = pd.read_csv(os.path.join(os.getcwd(), 'Data', 'Train', 'cleaned_train.csv'))\n",
    "else:\n",
    "    # Clean the comments\n",
    "    df['comment_text'] = df['comment_text'].apply(clean_comment)\n",
    "    # Save the cleaned data\n",
    "    df.to_csv(os.path.join(os.getcwd(), 'Data', 'Train', 'cleaned_train.csv'), index=False)"
   ]
  },
  {
   "cell_type": "code",
   "execution_count": 37,
   "id": "0712ca70",
   "metadata": {},
   "outputs": [
    {
     "data": {
      "text/html": [
       "<div>\n",
       "<style scoped>\n",
       "    .dataframe tbody tr th:only-of-type {\n",
       "        vertical-align: middle;\n",
       "    }\n",
       "\n",
       "    .dataframe tbody tr th {\n",
       "        vertical-align: top;\n",
       "    }\n",
       "\n",
       "    .dataframe thead th {\n",
       "        text-align: right;\n",
       "    }\n",
       "</style>\n",
       "<table border=\"1\" class=\"dataframe\">\n",
       "  <thead>\n",
       "    <tr style=\"text-align: right;\">\n",
       "      <th></th>\n",
       "      <th>comment_text</th>\n",
       "    </tr>\n",
       "  </thead>\n",
       "  <tbody>\n",
       "    <tr>\n",
       "      <th>0</th>\n",
       "      <td>this is so cool its like would you want your mother to read this really great idea well done</td>\n",
       "    </tr>\n",
       "    <tr>\n",
       "      <th>1</th>\n",
       "      <td>thank you this would make my life a lot less anxietyinducing keep it up and dont let anyone get in your way</td>\n",
       "    </tr>\n",
       "    <tr>\n",
       "      <th>2</th>\n",
       "      <td>this is such an urgent design problem kudos to you for taking it on very impressive</td>\n",
       "    </tr>\n",
       "    <tr>\n",
       "      <th>3</th>\n",
       "      <td>is this something ill be able to install on my site when will you be releasing it</td>\n",
       "    </tr>\n",
       "    <tr>\n",
       "      <th>4</th>\n",
       "      <td>hata you guns are a bunch of losers</td>\n",
       "    </tr>\n",
       "  </tbody>\n",
       "</table>\n",
       "</div>"
      ],
      "text/plain": [
       "                                                                                                  comment_text\n",
       "0                 this is so cool its like would you want your mother to read this really great idea well done\n",
       "1  thank you this would make my life a lot less anxietyinducing keep it up and dont let anyone get in your way\n",
       "2                          this is such an urgent design problem kudos to you for taking it on very impressive\n",
       "3                            is this something ill be able to install on my site when will you be releasing it\n",
       "4                                                                          hata you guns are a bunch of losers"
      ]
     },
     "execution_count": 37,
     "metadata": {},
     "output_type": "execute_result"
    }
   ],
   "source": [
    "df.head()"
   ]
  },
  {
   "cell_type": "code",
   "execution_count": 38,
   "id": "88ef3bda",
   "metadata": {},
   "outputs": [],
   "source": [
    "flag_test = True # Set to True to go with sample test data, else it will use the full dataset\n",
    "if flag_test:\n",
    "    df = df.sample(5000, random_state=42).reset_index(drop=True)\n",
    "\n",
    "df = df[df[\"comment_text\"].notnull()]\n",
    "comments = df[\"comment_text\"].astype(str).tolist()"
   ]
  },
  {
   "cell_type": "code",
   "execution_count": 39,
   "id": "98a184a4",
   "metadata": {},
   "outputs": [
    {
     "name": "stderr",
     "output_type": "stream",
     "text": [
      "Annotating comments: 100%|██████████| 4993/4993 [25:30<00:00,  3.26it/s]\n"
     ]
    }
   ],
   "source": [
    "processed_training_data = annotate_comment(comments)\n",
    "processed_training_data = pd.DataFrame(processed_training_data)\n",
    "processed_training_data['label'] = processed_training_data.apply(auto_label, axis=1)\n",
    "processed_training_data = pd.get_dummies(processed_training_data, columns=['sentiment', 'emotion'])"
   ]
  },
  {
   "cell_type": "code",
   "execution_count": 40,
   "id": "57f3baff",
   "metadata": {},
   "outputs": [
    {
     "name": "stdout",
     "output_type": "stream",
     "text": [
      "<class 'pandas.core.frame.DataFrame'>\n",
      "RangeIndex: 4993 entries, 0 to 4992\n",
      "Data columns (total 18 columns):\n",
      " #   Column              Non-Null Count  Dtype  \n",
      "---  ------              --------------  -----  \n",
      " 0   comment             4993 non-null   object \n",
      " 1   hate_score          4993 non-null   float64\n",
      " 2   toxicity            4993 non-null   float64\n",
      " 3   obscene             4993 non-null   float64\n",
      " 4   identity_attack     4993 non-null   float64\n",
      " 5   insult              4993 non-null   float64\n",
      " 6   threat              4993 non-null   float64\n",
      " 7   sexual_explicit     4993 non-null   float64\n",
      " 8   label               4993 non-null   object \n",
      " 9   sentiment_negative  4993 non-null   bool   \n",
      " 10  sentiment_neutral   4993 non-null   bool   \n",
      " 11  sentiment_positive  4993 non-null   bool   \n",
      " 12  emotion_anger       4993 non-null   bool   \n",
      " 13  emotion_fear        4993 non-null   bool   \n",
      " 14  emotion_joy         4993 non-null   bool   \n",
      " 15  emotion_love        4993 non-null   bool   \n",
      " 16  emotion_sadness     4993 non-null   bool   \n",
      " 17  emotion_surprise    4993 non-null   bool   \n",
      "dtypes: bool(9), float64(7), object(2)\n",
      "memory usage: 395.1+ KB\n"
     ]
    }
   ],
   "source": [
    "processed_training_data.info()"
   ]
  },
  {
   "cell_type": "code",
   "execution_count": 41,
   "id": "853bfb4c",
   "metadata": {},
   "outputs": [],
   "source": [
    "tokenizer = BertTokenizer.from_pretrained('bert-base-uncased')\n",
    "model = BertModel.from_pretrained('bert-base-uncased')\n",
    "model.eval()\n",
    "\n",
    "def get_bert_embedding(text):\n",
    "    inputs = tokenizer(text, return_tensors='pt', truncation=True, max_length=128, padding='max_length')\n",
    "    with torch.no_grad():\n",
    "        outputs = model(**inputs)\n",
    "    # Use the [CLS] token embedding (pooled representation)\n",
    "    cls_embedding = outputs.last_hidden_state[:, 0, :].squeeze().numpy()\n",
    "    return cls_embedding"
   ]
  },
  {
   "cell_type": "code",
   "execution_count": 42,
   "id": "4b26519a",
   "metadata": {},
   "outputs": [],
   "source": [
    "processed_training_data['bert_embedding'] = processed_training_data['comment'].apply(get_bert_embedding)"
   ]
  },
  {
   "cell_type": "code",
   "execution_count": 43,
   "id": "0bbb79bf",
   "metadata": {},
   "outputs": [],
   "source": [
    "scalar_features = processed_training_data[['hate_score', 'toxicity', 'obscene', 'identity_attack', 'insult', 'threat', 'sexual_explicit', \\\n",
    "                                           'sentiment_negative', 'sentiment_neutral', 'sentiment_positive', \\\n",
    "                                           'emotion_anger', 'emotion_fear', 'emotion_joy', 'emotion_love', 'emotion_sadness', 'emotion_surprise']].values"
   ]
  },
  {
   "cell_type": "code",
   "execution_count": 44,
   "id": "b287fb47",
   "metadata": {},
   "outputs": [],
   "source": [
    "X = np.hstack((np.vstack(processed_training_data['bert_embedding']), scalar_features))  "
   ]
  },
  {
   "cell_type": "code",
   "execution_count": 45,
   "id": "76178150",
   "metadata": {},
   "outputs": [
    {
     "name": "stdout",
     "output_type": "stream",
     "text": [
      "Label Mapping: {'delete': np.int64(0), 'keep': np.int64(1)}\n"
     ]
    }
   ],
   "source": [
    "le = LabelEncoder()\n",
    "y = le.fit_transform(processed_training_data['label'])\n",
    "\n",
    "print(\"Label Mapping:\", dict(zip(le.classes_, le.transform(le.classes_))))"
   ]
  },
  {
   "cell_type": "code",
   "execution_count": 46,
   "id": "dda24f6f",
   "metadata": {},
   "outputs": [
    {
     "name": "stdout",
     "output_type": "stream",
     "text": [
      "Accuracy: 0.8168168168168168\n"
     ]
    }
   ],
   "source": [
    "X_train, X_test, y_train, y_test = train_test_split(X, y, test_size=0.2, random_state=42)\n",
    "\n",
    "clf = SVC(kernel='linear', probability=True)\n",
    "clf.fit(X_train, y_train)\n",
    "\n",
    "print(\"Accuracy:\", clf.score(X_test, y_test))"
   ]
  },
  {
   "cell_type": "code",
   "execution_count": 47,
   "id": "b479ea59",
   "metadata": {},
   "outputs": [
    {
     "name": "stdout",
     "output_type": "stream",
     "text": [
      "Accuracy: 0.8168168168168168\n",
      "\n",
      "=== Classification Report ===\n",
      "              precision    recall  f1-score   support\n",
      "\n",
      "        keep       0.81      0.83      0.82       499\n",
      "      delete       0.83      0.80      0.81       500\n",
      "\n",
      "    accuracy                           0.82       999\n",
      "   macro avg       0.82      0.82      0.82       999\n",
      "weighted avg       0.82      0.82      0.82       999\n",
      "\n"
     ]
    },
    {
     "data": {
      "image/png": "[encoded data removed]",
      "text/plain": [
       "<Figure size 600x400 with 2 Axes>"
      ]
     },
     "metadata": {},
     "output_type": "display_data"
    },
    {
     "data": {
      "image/png": "[encoded data removed]",
      "text/plain": [
       "<Figure size 600x400 with 1 Axes>"
      ]
     },
     "metadata": {},
     "output_type": "display_data"
    }
   ],
   "source": [
    "# Predict\n",
    "y_pred = clf.predict(X_test)\n",
    "\n",
    "# Accuracy\n",
    "print(\"Accuracy:\", accuracy_score(y_test, y_pred))\n",
    "\n",
    "# Classification Report\n",
    "print(\"\\n=== Classification Report ===\")\n",
    "print(classification_report(y_test, y_pred, target_names=[\"keep\", \"delete\"]))\n",
    "\n",
    "# Confusion Matrix\n",
    "cm = confusion_matrix(y_test, y_pred, labels=clf.classes_)\n",
    "df_cm = pd.DataFrame(cm, index=[\"keep\", \"delete\"], columns=[\"keep\", \"delete\"])\n",
    "plt.figure(figsize=(6, 4))\n",
    "sns.heatmap(df_cm, annot=True, fmt=\"d\", cmap=\"Blues\")\n",
    "plt.title(\"Confusion Matrix\")\n",
    "plt.xlabel(\"Predicted\")\n",
    "plt.ylabel(\"Actual\")\n",
    "plt.show()\n",
    "\n",
    "# Distribution of Predictions\n",
    "pred_dist = pd.Series(y_pred).value_counts().sort_index()\n",
    "plt.figure(figsize=(6, 4))\n",
    "sns.barplot(x=pred_dist.index, y=pred_dist.values)\n",
    "plt.title(\"Prediction Distribution\")\n",
    "plt.xlabel(\"Class\")\n",
    "plt.ylabel(\"Count\")\n",
    "plt.show()"
   ]
  },
  {
   "cell_type": "code",
   "execution_count": null,
   "id": "5a8e519b",
   "metadata": {},
   "outputs": [],
   "source": [
    "def predict_comment_with_scalars(comment, tokenizer, bert_model, svm_model, label_encoder):\n",
    "    # === Step 1: Clean (apply your text cleaner if needed)\n",
    "    cleaned = clean_comment(comment)  # Optional, if you've defined a cleaner\n",
    "\n",
    "    # === Step 2: Get BERT embedding\n",
    "    inputs = tokenizer(cleaned, return_tensors=\"pt\", padding=True, truncation=True, max_length=128)\n",
    "    with torch.no_grad():\n",
    "        outputs = bert_model(**inputs)\n",
    "    bert_features = outputs.pooler_output.squeeze().numpy()  # shape: (768,)\n",
    "\n",
    "    # === Step 3: Get scalar features\n",
    "    sentiment = get_sentiment(comment)\n",
    "    emotion = get_emotion(comment)\n",
    "    toxicity = get_toxicity(comment)\n",
    "\n",
    "    # === Step 4: Encode sentiment & emotion (same mapping as in training)\n",
    "    sent_map = {'negative': 0, 'neutral': 1, 'positive': 2}\n",
    "    emo_map = {'joy': 0, 'anger': 1, 'sadness': 2, 'surprise': 3, 'fear': 4, 'love': 5, 'others': 6}\n",
    "    sentiment_encoded = sent_map.get(sentiment, 1)  # fallback: neutral\n",
    "    emotion_encoded = emo_map.get(emotion, 6)      # fallback: others\n",
    "\n",
    "    scalar_vector = [\n",
    "        sentiment_encoded,\n",
    "        emotion_encoded,\n",
    "        toxicity.get('toxicity', 0.0),\n",
    "        toxicity.get('obscene', 0.0),\n",
    "        toxicity.get('identity_attack', 0.0),\n",
    "        toxicity.get('insult', 0.0),\n",
    "        toxicity.get('threat', 0.0),\n",
    "        toxicity.get('sexual_explicit', 0.0)\n",
    "    ]\n",
    "\n",
    "    # === Step 5: Concatenate and reshape for SVM\n",
    "    full_features = np.concatenate([bert_features, scalar_vector]).reshape(1, -1)\n",
    "\n",
    "    # === Step 6: Predict\n",
    "    prediction = svm_model.predict(full_features)[0]\n",
    "    label = label_encoder.inverse_transform([prediction])[0]\n",
    "    return label"
   ]
  }
 ],
 "metadata": {
  "kernelspec": {
   "display_name": ".venv",
   "language": "python",
   "name": "python3"
  },
  "language_info": {
   "codemirror_mode": {
    "name": "ipython",
    "version": 3
   },
   "file_extension": ".py",
   "mimetype": "text/x-python",
   "name": "python",
   "nbconvert_exporter": "python",
   "pygments_lexer": "ipython3",
   "version": "3.12.10"
  }
 },
 "nbformat": 4,
 "nbformat_minor": 5
}
