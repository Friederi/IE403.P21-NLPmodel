{
 "cells": [
  {
   "cell_type": "markdown",
   "id": "cbe3f020",
   "metadata": {},
   "source": [
    "# Library import"
   ]
  },
  {
   "cell_type": "code",
   "execution_count": 3,
   "id": "84724c78",
   "metadata": {},
   "outputs": [
    {
     "name": "stderr",
     "output_type": "stream",
     "text": [
      "c:\\Users\\nkhoa2\\Desktop\\Github\\Test\\.venv\\Lib\\site-packages\\tqdm\\auto.py:21: TqdmWarning: IProgress not found. Please update jupyter and ipywidgets. See https://ipywidgets.readthedocs.io/en/stable/user_install.html\n",
      "  from .autonotebook import tqdm as notebook_tqdm\n"
     ]
    }
   ],
   "source": [
    "import pandas as pd\n",
    "import numpy as np\n",
    "import torch\n",
    "import os\n",
    "import matplotlib.pyplot as plt\n",
    "import seaborn as sns\n",
    "\n",
    "from transformers import pipeline, AutoTokenizer, AutoModelForSequenceClassification\n",
    "from torch.nn.functional import softmax\n",
    "from tqdm import tqdm\n",
    "\n",
    "pd.set_option('display.max_colwidth', None)"
   ]
  },
  {
   "cell_type": "markdown",
   "id": "7b7a5d75",
   "metadata": {},
   "source": [
    "# Data Load"
   ]
  },
  {
   "cell_type": "code",
   "execution_count": 4,
   "id": "dd0c77ee",
   "metadata": {},
   "outputs": [
    {
     "name": "stderr",
     "output_type": "stream",
     "text": [
      "C:\\Users\\nkhoa2\\AppData\\Local\\Temp\\ipykernel_25912\\17680083.py:2: DtypeWarning: Columns (14,15,31,32) have mixed types. Specify dtype option on import or set low_memory=False.\n",
      "  df_test = pd.read_csv(path)\n"
     ]
    }
   ],
   "source": [
    "path = os.path.join(os.getcwd(), 'Data', 'DataTestComment.csv')\n",
    "df_test = pd.read_csv(path)"
   ]
  },
  {
   "cell_type": "code",
   "execution_count": 5,
   "id": "d8d9f4a3",
   "metadata": {},
   "outputs": [
    {
     "name": "stdout",
     "output_type": "stream",
     "text": [
      "Quick mode activated. Using a smaller sample for testing.\n"
     ]
    }
   ],
   "source": [
    "df_test = df_test.dropna(subset=[\"commentBody\"])                          # removes NaNs\n",
    "df_test = df_test[df_test[\"commentBody\"].str.len() > 0]                   # removes empty strings\n",
    "df_sample = df_test.sample(2000, random_state=42).reset_index(drop=True)  # sample 2000 rows\n",
    "df_sample.to_csv('Data/Sample.csv', index=False, mode='w+')               # save sample to CSV\n",
    "\n",
    "quick_mode = True\n",
    "if quick_mode:\n",
    "    df_use = df_sample\n",
    "    print(\"Quick mode activated. Using a smaller sample for testing.\")\n",
    "else:\n",
    "    df_use = df_test\n",
    "    print(\"Using the full dataset for sentiment analysis.\")\n",
    "\n",
    "comments = df_use[\"commentBody\"].tolist()"
   ]
  },
  {
   "cell_type": "markdown",
   "id": "5d4b8c81",
   "metadata": {},
   "source": [
    "# Annotation"
   ]
  },
  {
   "cell_type": "markdown",
   "id": "9f9dca93",
   "metadata": {},
   "source": [
    "## Calling all pretrained model"
   ]
  },
  {
   "cell_type": "code",
   "execution_count": 6,
   "id": "39ab0f66",
   "metadata": {},
   "outputs": [
    {
     "name": "stderr",
     "output_type": "stream",
     "text": [
      "Device set to use cpu\n",
      "Device set to use cpu\n"
     ]
    }
   ],
   "source": [
    "sentiment_pipe = pipeline(\"sentiment-analysis\", model=\"cardiffnlp/twitter-roberta-base-sentiment\")\n",
    "toxicity_pipe = pipeline(\"text-classification\", model=\"unitary/toxic-bert\", top_k=None)"
   ]
  },
  {
   "cell_type": "code",
   "execution_count": 7,
   "id": "63fc9fb7",
   "metadata": {},
   "outputs": [],
   "source": [
    "emotion_model = AutoModelForSequenceClassification.from_pretrained(\"nateraw/bert-base-uncased-emotion\")\n",
    "emotion_tokenizer = AutoTokenizer.from_pretrained(\"nateraw/bert-base-uncased-emotion\")\n",
    "emotion_model.eval()  # Set the model to evaluation mode\n",
    "\n",
    "def get_emotion(text):\n",
    "    inputs = emotion_tokenizer(text, return_tensors=\"pt\", truncation=True)\n",
    "    with torch.no_grad():\n",
    "        logits = emotion_model(**inputs).logits\n",
    "    predicted_class = torch.argmax(logits, dim=1).item()\n",
    "    label_list = ['sadness', 'joy', 'love', 'anger', 'fear', 'surprise']\n",
    "    return label_list[predicted_class]"
   ]
  },
  {
   "cell_type": "code",
   "execution_count": 8,
   "id": "1b89b5af",
   "metadata": {},
   "outputs": [],
   "source": [
    "hate_model = AutoModelForSequenceClassification.from_pretrained(\"facebook/roberta-hate-speech-dynabench-r4-target\")\n",
    "hate_tokenizer = AutoTokenizer.from_pretrained(\"facebook/roberta-hate-speech-dynabench-r4-target\")\n",
    "hate_model.eval()  # Set the model to evaluation mode\n",
    "\n",
    "def get_hate_score(text):\n",
    "    try:\n",
    "        inputs = hate_tokenizer(text, return_tensors=\"pt\", truncation=True)\n",
    "        with torch.no_grad():\n",
    "            outputs = hate_model(**inputs)\n",
    "            scores = torch.sigmoid(outputs.logits)\n",
    "        return scores[0][0].item()\n",
    "    except:\n",
    "        return 0.0"
   ]
  },
  {
   "cell_type": "code",
   "execution_count": 9,
   "id": "f569506e",
   "metadata": {},
   "outputs": [],
   "source": [
    "def get_sentiment(text):\n",
    "    try:\n",
    "        result = sentiment_pipe(text)[0]\n",
    "        label_map = {\n",
    "            \"LABEL_0\": \"negative\",\n",
    "            \"LABEL_1\": \"neutral\",\n",
    "            \"LABEL_2\": \"positive\"\n",
    "        }\n",
    "        return label_map.get(result[\"label\"], \"UNKNOWN\")\n",
    "    except:\n",
    "        return \"UNKNOWN\"\n",
    "\n",
    "def get_toxicity(text):\n",
    "    try:\n",
    "        result = toxicity_pipe(text)[0]\n",
    "        return {r['label'].lower(): r['score'] for r in result}\n",
    "    except:\n",
    "        return {}"
   ]
  },
  {
   "cell_type": "code",
   "execution_count": 10,
   "id": "8fea53f2",
   "metadata": {},
   "outputs": [],
   "source": [
    "def annotate_comment_batch(comments, limit=2000):\n",
    "    \"\"\"\n",
    "    Annotate a batch of comments with scalar features like sentiment, toxicity, emotion, etc.\n",
    "\n",
    "    Args:\n",
    "        comments (list[str]): List of raw text comments.\n",
    "        limit (int): Limit the number of comments to annotate (useful for testing/dev).\n",
    "\n",
    "    Returns:\n",
    "        list[dict]: List of annotated comment dictionaries.\n",
    "    \"\"\"\n",
    "    ensemble_data = []\n",
    "\n",
    "    for comment in tqdm(comments[:limit], desc=\"Annotating comments\"):\n",
    "        result = {\n",
    "            \"comment\": comment,\n",
    "            \"sentiment\": get_sentiment(comment),\n",
    "            \"hate_score\": get_hate_score(comment),\n",
    "            \"emotion\": get_emotion(comment)\n",
    "        }\n",
    "\n",
    "        toxicity_scores = get_toxicity(comment)\n",
    "        for key in ['toxicity', 'obscene', 'identity_attack', 'insult', 'threat', 'sexual_explicit']:\n",
    "            result[key] = toxicity_scores.get(key, 0.0)\n",
    "\n",
    "        result[\"label\"] = \"unknown\"  \n",
    "        ensemble_data.append(result)\n",
    "\n",
    "    return ensemble_data"
   ]
  },
  {
   "cell_type": "code",
   "execution_count": 11,
   "id": "ff54670a",
   "metadata": {},
   "outputs": [
    {
     "name": "stderr",
     "output_type": "stream",
     "text": [
      "Annotating comments: 100%|██████████| 500/500 [03:42<00:00,  2.25it/s]\n"
     ]
    },
    {
     "data": {
      "text/html": [
       "<div>\n",
       "<style scoped>\n",
       "    .dataframe tbody tr th:only-of-type {\n",
       "        vertical-align: middle;\n",
       "    }\n",
       "\n",
       "    .dataframe tbody tr th {\n",
       "        vertical-align: top;\n",
       "    }\n",
       "\n",
       "    .dataframe thead th {\n",
       "        text-align: right;\n",
       "    }\n",
       "</style>\n",
       "<table border=\"1\" class=\"dataframe\">\n",
       "  <thead>\n",
       "    <tr style=\"text-align: right;\">\n",
       "      <th></th>\n",
       "      <th>comment</th>\n",
       "      <th>sentiment</th>\n",
       "      <th>hate_score</th>\n",
       "      <th>emotion</th>\n",
       "      <th>toxicity</th>\n",
       "      <th>obscene</th>\n",
       "      <th>identity_attack</th>\n",
       "      <th>insult</th>\n",
       "      <th>threat</th>\n",
       "      <th>sexual_explicit</th>\n",
       "      <th>label</th>\n",
       "    </tr>\n",
       "  </thead>\n",
       "  <tbody>\n",
       "    <tr>\n",
       "      <th>0</th>\n",
       "      <td>an interesting statistic came out today in a university of michigan study that found the michigan medicaid expansion not only insured an additional 6000 people in this state it also produced an additional 330 jobs in the michigan health care industry so much to the contrary of yet another republican argument that the act would cut jobssomething that was never born out by demographersit actually resulted in a significant uptick in hiringbut hey we now live in trumpland where everything will be judged based upon how it hits the great morass of semi to uninformed people in the gut and not based upon any significant degree of reality</td>\n",
       "      <td>neutral</td>\n",
       "      <td>0.866758</td>\n",
       "      <td>joy</td>\n",
       "      <td>0.0</td>\n",
       "      <td>0.000181</td>\n",
       "      <td>0.0</td>\n",
       "      <td>0.000184</td>\n",
       "      <td>0.000111</td>\n",
       "      <td>0.0</td>\n",
       "      <td>unknown</td>\n",
       "    </tr>\n",
       "    <tr>\n",
       "      <th>1</th>\n",
       "      <td>heartily agree trump offers such a smorgasbord of bombast and lies journalists can easily loose perspective and critical edge in the feeding frenzy we must remain discriminating by drilling down on what is truly consequential and walking past the cheap calories of derision and rumour trump got where he is partly because he knew how to play to the mainstream medias disastrous appetite for entertainment posing as news</td>\n",
       "      <td>negative</td>\n",
       "      <td>0.939092</td>\n",
       "      <td>sadness</td>\n",
       "      <td>0.0</td>\n",
       "      <td>0.000290</td>\n",
       "      <td>0.0</td>\n",
       "      <td>0.000248</td>\n",
       "      <td>0.000121</td>\n",
       "      <td>0.0</td>\n",
       "      <td>unknown</td>\n",
       "    </tr>\n",
       "    <tr>\n",
       "      <th>2</th>\n",
       "      <td>it is ever so critical now for the average american citizen to pay attention stay actively informed even on those more boring matters and actually make those calls and send those emails gone are the days of assuming elected officials will on the whole do what is right for us we are now our only hope</td>\n",
       "      <td>neutral</td>\n",
       "      <td>0.982114</td>\n",
       "      <td>joy</td>\n",
       "      <td>0.0</td>\n",
       "      <td>0.000183</td>\n",
       "      <td>0.0</td>\n",
       "      <td>0.000209</td>\n",
       "      <td>0.000142</td>\n",
       "      <td>0.0</td>\n",
       "      <td>unknown</td>\n",
       "    </tr>\n",
       "    <tr>\n",
       "      <th>3</th>\n",
       "      <td>you sold your soul no less than any of them you brought us trump you and the rest of the apologists</td>\n",
       "      <td>negative</td>\n",
       "      <td>0.808653</td>\n",
       "      <td>anger</td>\n",
       "      <td>0.0</td>\n",
       "      <td>0.007351</td>\n",
       "      <td>0.0</td>\n",
       "      <td>0.068120</td>\n",
       "      <td>0.015863</td>\n",
       "      <td>0.0</td>\n",
       "      <td>unknown</td>\n",
       "    </tr>\n",
       "    <tr>\n",
       "      <th>4</th>\n",
       "      <td>did mr trumps people forget to tell him that hed lost the popular vote in the millionshes right about one thing of course: not enough citizens voted though its safe to say that a good many women who did arent the ones who wish they hadnt the ones who obeyed their husbands and for trump or lied to the husbands and didnt tell them wouldnt risk exposing themselves at the womens marchesthe ballot is secret so your family neighbors and friends can never guess about how humiliated one can feel after voting for the wrong candidate the voting booth is a confessional through there is nobody to absolve you</td>\n",
       "      <td>negative</td>\n",
       "      <td>0.870100</td>\n",
       "      <td>sadness</td>\n",
       "      <td>0.0</td>\n",
       "      <td>0.000403</td>\n",
       "      <td>0.0</td>\n",
       "      <td>0.000518</td>\n",
       "      <td>0.000147</td>\n",
       "      <td>0.0</td>\n",
       "      <td>unknown</td>\n",
       "    </tr>\n",
       "    <tr>\n",
       "      <th>5</th>\n",
       "      <td>there are black farmers in north carolina that are involved in vegetable and animal agriculture have been productive for years and would be worthy partners and vendors for this chef and her businesses i am a black yankee who did spend some time in no enough to see the differences between that part of the state and rep charlotte and experience them too as recently as this past december there was an active ask drive through in northeast north central no and there are active enclaves in eastern no unfortunately this political climate has made it much easier for these attitudes and behaviors to become apparent again including the bias that is demonstrated by your own assumptions in your comment above the michigan boy got it right this show and the business owners who appear to be benefiting the white population of this area and not the majority black residents could be more inclusive in their business practices and benefit themselves along the way also</td>\n",
       "      <td>neutral</td>\n",
       "      <td>0.938146</td>\n",
       "      <td>joy</td>\n",
       "      <td>0.0</td>\n",
       "      <td>0.000279</td>\n",
       "      <td>0.0</td>\n",
       "      <td>0.000296</td>\n",
       "      <td>0.000150</td>\n",
       "      <td>0.0</td>\n",
       "      <td>unknown</td>\n",
       "    </tr>\n",
       "    <tr>\n",
       "      <th>6</th>\n",
       "      <td>our manchuria candidatebut it would not have been successful if we elected candidates based on issues rather than popularity contests determined by to and now the internet in which propaganda techniques for selling soap are used to attack and establish the supposed character of the nominee</td>\n",
       "      <td>negative</td>\n",
       "      <td>0.975874</td>\n",
       "      <td>joy</td>\n",
       "      <td>0.0</td>\n",
       "      <td>0.000169</td>\n",
       "      <td>0.0</td>\n",
       "      <td>0.000191</td>\n",
       "      <td>0.000121</td>\n",
       "      <td>0.0</td>\n",
       "      <td>unknown</td>\n",
       "    </tr>\n",
       "    <tr>\n",
       "      <th>7</th>\n",
       "      <td>obama once again demonstrates that he is capable of compassion which is not something for which his successortobe is exactly renowned this is the right thing to do ideally snowden would serve for the same number of years and move on as well</td>\n",
       "      <td>neutral</td>\n",
       "      <td>0.971533</td>\n",
       "      <td>joy</td>\n",
       "      <td>0.0</td>\n",
       "      <td>0.000172</td>\n",
       "      <td>0.0</td>\n",
       "      <td>0.000178</td>\n",
       "      <td>0.000130</td>\n",
       "      <td>0.0</td>\n",
       "      <td>unknown</td>\n",
       "    </tr>\n",
       "    <tr>\n",
       "      <th>8</th>\n",
       "      <td>with his business first preoccupations and raw understanding of the complexities of the international relations compounded further by his ready succumbing to the impulsive dictates trump would be more than willing to offer the us led world order on platter to his new found charm and alter ego putin whatever be the catastrophe</td>\n",
       "      <td>neutral</td>\n",
       "      <td>0.896069</td>\n",
       "      <td>joy</td>\n",
       "      <td>0.0</td>\n",
       "      <td>0.000259</td>\n",
       "      <td>0.0</td>\n",
       "      <td>0.000253</td>\n",
       "      <td>0.000116</td>\n",
       "      <td>0.0</td>\n",
       "      <td>unknown</td>\n",
       "    </tr>\n",
       "    <tr>\n",
       "      <th>9</th>\n",
       "      <td>trump offered the same lame excuse he always has for not releasing his tax returnsunder audit so why cant the irs put that endless audit on fast track and get it done</td>\n",
       "      <td>negative</td>\n",
       "      <td>0.928705</td>\n",
       "      <td>sadness</td>\n",
       "      <td>0.0</td>\n",
       "      <td>0.000233</td>\n",
       "      <td>0.0</td>\n",
       "      <td>0.000241</td>\n",
       "      <td>0.000104</td>\n",
       "      <td>0.0</td>\n",
       "      <td>unknown</td>\n",
       "    </tr>\n",
       "  </tbody>\n",
       "</table>\n",
       "</div>"
      ],
      "text/plain": [
       "                                                                                                                                                                                                                                                                                                                                                                                                                                                                                                                                                                                                                                                                                                                                                                                                                                                                                                                                                                                              comment  \\\n",
       "0                                                                                                                                                                                                                                                                                                                                       an interesting statistic came out today in a university of michigan study that found the michigan medicaid expansion not only insured an additional 6000 people in this state it also produced an additional 330 jobs in the michigan health care industry so much to the contrary of yet another republican argument that the act would cut jobssomething that was never born out by demographersit actually resulted in a significant uptick in hiringbut hey we now live in trumpland where everything will be judged based upon how it hits the great morass of semi to uninformed people in the gut and not based upon any significant degree of reality   \n",
       "1                                                                                                                                                                                                                                                                                                                                                                                                                                                                                                                                                                 heartily agree trump offers such a smorgasbord of bombast and lies journalists can easily loose perspective and critical edge in the feeding frenzy we must remain discriminating by drilling down on what is truly consequential and walking past the cheap calories of derision and rumour trump got where he is partly because he knew how to play to the mainstream medias disastrous appetite for entertainment posing as news   \n",
       "2                                                                                                                                                                                                                                                                                                                                                                                                                                                                                                                                                                                                                                                                                        it is ever so critical now for the average american citizen to pay attention stay actively informed even on those more boring matters and actually make those calls and send those emails gone are the days of assuming elected officials will on the whole do what is right for us we are now our only hope   \n",
       "3                                                                                                                                                                                                                                                                                                                                                                                                                                                                                                                                                                                                                                                                                                                                                                                                                                                                                                 you sold your soul no less than any of them you brought us trump you and the rest of the apologists   \n",
       "4                                                                                                                                                                                                                                                                                                                                                                         did mr trumps people forget to tell him that hed lost the popular vote in the millionshes right about one thing of course: not enough citizens voted though its safe to say that a good many women who did arent the ones who wish they hadnt the ones who obeyed their husbands and for trump or lied to the husbands and didnt tell them wouldnt risk exposing themselves at the womens marchesthe ballot is secret so your family neighbors and friends can never guess about how humiliated one can feel after voting for the wrong candidate the voting booth is a confessional through there is nobody to absolve you   \n",
       "5  there are black farmers in north carolina that are involved in vegetable and animal agriculture have been productive for years and would be worthy partners and vendors for this chef and her businesses i am a black yankee who did spend some time in no enough to see the differences between that part of the state and rep charlotte and experience them too as recently as this past december there was an active ask drive through in northeast north central no and there are active enclaves in eastern no unfortunately this political climate has made it much easier for these attitudes and behaviors to become apparent again including the bias that is demonstrated by your own assumptions in your comment above the michigan boy got it right this show and the business owners who appear to be benefiting the white population of this area and not the majority black residents could be more inclusive in their business practices and benefit themselves along the way also   \n",
       "6                                                                                                                                                                                                                                                                                                                                                                                                                                                                                                                                                                                                                                                                                                  our manchuria candidatebut it would not have been successful if we elected candidates based on issues rather than popularity contests determined by to and now the internet in which propaganda techniques for selling soap are used to attack and establish the supposed character of the nominee   \n",
       "7                                                                                                                                                                                                                                                                                                                                                                                                                                                                                                                                                                                                                                                                                                                                                    obama once again demonstrates that he is capable of compassion which is not something for which his successortobe is exactly renowned this is the right thing to do ideally snowden would serve for the same number of years and move on as well   \n",
       "8                                                                                                                                                                                                                                                                                                                                                                                                                                                                                                                                                                                                                                                             with his business first preoccupations and raw understanding of the complexities of the international relations compounded further by his ready succumbing to the impulsive dictates trump would be more than willing to offer the us led world order on platter to his new found charm and alter ego putin whatever be the catastrophe   \n",
       "9                                                                                                                                                                                                                                                                                                                                                                                                                                                                                                                                                                                                                                                                                                                                                                                                                              trump offered the same lame excuse he always has for not releasing his tax returnsunder audit so why cant the irs put that endless audit on fast track and get it done   \n",
       "\n",
       "  sentiment  hate_score  emotion  toxicity   obscene  identity_attack  \\\n",
       "0   neutral    0.866758      joy       0.0  0.000181              0.0   \n",
       "1  negative    0.939092  sadness       0.0  0.000290              0.0   \n",
       "2   neutral    0.982114      joy       0.0  0.000183              0.0   \n",
       "3  negative    0.808653    anger       0.0  0.007351              0.0   \n",
       "4  negative    0.870100  sadness       0.0  0.000403              0.0   \n",
       "5   neutral    0.938146      joy       0.0  0.000279              0.0   \n",
       "6  negative    0.975874      joy       0.0  0.000169              0.0   \n",
       "7   neutral    0.971533      joy       0.0  0.000172              0.0   \n",
       "8   neutral    0.896069      joy       0.0  0.000259              0.0   \n",
       "9  negative    0.928705  sadness       0.0  0.000233              0.0   \n",
       "\n",
       "     insult    threat  sexual_explicit    label  \n",
       "0  0.000184  0.000111              0.0  unknown  \n",
       "1  0.000248  0.000121              0.0  unknown  \n",
       "2  0.000209  0.000142              0.0  unknown  \n",
       "3  0.068120  0.015863              0.0  unknown  \n",
       "4  0.000518  0.000147              0.0  unknown  \n",
       "5  0.000296  0.000150              0.0  unknown  \n",
       "6  0.000191  0.000121              0.0  unknown  \n",
       "7  0.000178  0.000130              0.0  unknown  \n",
       "8  0.000253  0.000116              0.0  unknown  \n",
       "9  0.000241  0.000104              0.0  unknown  "
      ]
     },
     "execution_count": 11,
     "metadata": {},
     "output_type": "execute_result"
    }
   ],
   "source": [
    "ensemble_data = annotate_comment_batch(comments, limit=500) # Adjust limit as needed\n",
    "ensemble_data_df = pd.DataFrame(ensemble_data)\n",
    "ensemble_data_df.head(10)  "
   ]
  },
  {
   "cell_type": "code",
   "execution_count": 1,
   "id": "f39ae553",
   "metadata": {},
   "outputs": [],
   "source": [
    "def auto_label(row):\n",
    "    # Flag strong negative + hate or toxicity\n",
    "    if (row['sentiment'] == 'negative' and row['emotion'] == 'anger') and (\n",
    "        row['hate_score'] > 0.9 or\n",
    "        row['toxicity'] > 0.8 or\n",
    "        row['insult'] > 0.5 or\n",
    "        row['threat'] > 0.4 or\n",
    "        row['identity_attack'] > 0.5\n",
    "    ):\n",
    "        return \"delete\"\n",
    "\n",
    "    # Even if sentiment is neutral or positive, still delete if too toxic\n",
    "    \n",
    "    if row['toxicity'] > 0.6 or \\\n",
    "        row['insult'] > 0.6 or \\\n",
    "        row['identity_attack'] > 0.6 or \\\n",
    "        row['obscene'] > 0.6 or \\\n",
    "        row['threat'] > 0.6 or \\\n",
    "        row['sexual_explicit'] > 0.6:\n",
    "\n",
    "        return \"delete\"\n",
    "    \n",
    "\n",
    "    # Emotional cue: very angry + some toxicity\n",
    "    if row['emotion'] == 'anger' and row['toxicity'] > 0.4:\n",
    "        return \"delete\"\n",
    "\n",
    "    # Everything else is kept\n",
    "    return \"keep\""
   ]
  },
  {
   "cell_type": "code",
   "execution_count": 29,
   "id": "a487077d",
   "metadata": {},
   "outputs": [
    {
     "data": {
      "text/plain": [
       "<Axes: xlabel='label'>"
      ]
     },
     "execution_count": 29,
     "metadata": {},
     "output_type": "execute_result"
    },
    {
     "data": {
      "image/png": "[encoded data removed]",
      "text/plain": [
       "<Figure size 640x480 with 1 Axes>"
      ]
     },
     "metadata": {},
     "output_type": "display_data"
    }
   ],
   "source": [
    "ensemble_data_df['label'] = ensemble_data_df.apply(auto_label, axis=1)\n",
    "ensemble_data_df['label'].value_counts().plot(kind='bar')\n"
   ]
  },
  {
   "cell_type": "code",
   "execution_count": 30,
   "id": "3121b3f5",
   "metadata": {},
   "outputs": [
    {
     "data": {
      "text/html": [
       "<div>\n",
       "<style scoped>\n",
       "    .dataframe tbody tr th:only-of-type {\n",
       "        vertical-align: middle;\n",
       "    }\n",
       "\n",
       "    .dataframe tbody tr th {\n",
       "        vertical-align: top;\n",
       "    }\n",
       "\n",
       "    .dataframe thead th {\n",
       "        text-align: right;\n",
       "    }\n",
       "</style>\n",
       "<table border=\"1\" class=\"dataframe\">\n",
       "  <thead>\n",
       "    <tr style=\"text-align: right;\">\n",
       "      <th></th>\n",
       "      <th>comment</th>\n",
       "      <th>label</th>\n",
       "    </tr>\n",
       "  </thead>\n",
       "  <tbody>\n",
       "    <tr>\n",
       "      <th>0</th>\n",
       "      <td>an interesting statistic came out today in a university of michigan study that found the michigan medicaid expansion not only insured an additional 6000 people in this state it also produced an additional 330 jobs in the michigan health care industry so much to the contrary of yet another republican argument that the act would cut jobssomething that was never born out by demographersit actually resulted in a significant uptick in hiringbut hey we now live in trumpland where everything will be judged based upon how it hits the great morass of semi to uninformed people in the gut and not based upon any significant degree of reality</td>\n",
       "      <td>keep</td>\n",
       "    </tr>\n",
       "    <tr>\n",
       "      <th>1</th>\n",
       "      <td>heartily agree trump offers such a smorgasbord of bombast and lies journalists can easily loose perspective and critical edge in the feeding frenzy we must remain discriminating by drilling down on what is truly consequential and walking past the cheap calories of derision and rumour trump got where he is partly because he knew how to play to the mainstream medias disastrous appetite for entertainment posing as news</td>\n",
       "      <td>keep</td>\n",
       "    </tr>\n",
       "    <tr>\n",
       "      <th>2</th>\n",
       "      <td>it is ever so critical now for the average american citizen to pay attention stay actively informed even on those more boring matters and actually make those calls and send those emails gone are the days of assuming elected officials will on the whole do what is right for us we are now our only hope</td>\n",
       "      <td>keep</td>\n",
       "    </tr>\n",
       "    <tr>\n",
       "      <th>3</th>\n",
       "      <td>you sold your soul no less than any of them you brought us trump you and the rest of the apologists</td>\n",
       "      <td>keep</td>\n",
       "    </tr>\n",
       "    <tr>\n",
       "      <th>4</th>\n",
       "      <td>did mr trumps people forget to tell him that hed lost the popular vote in the millionshes right about one thing of course: not enough citizens voted though its safe to say that a good many women who did arent the ones who wish they hadnt the ones who obeyed their husbands and for trump or lied to the husbands and didnt tell them wouldnt risk exposing themselves at the womens marchesthe ballot is secret so your family neighbors and friends can never guess about how humiliated one can feel after voting for the wrong candidate the voting booth is a confessional through there is nobody to absolve you</td>\n",
       "      <td>keep</td>\n",
       "    </tr>\n",
       "    <tr>\n",
       "      <th>5</th>\n",
       "      <td>there are black farmers in north carolina that are involved in vegetable and animal agriculture have been productive for years and would be worthy partners and vendors for this chef and her businesses i am a black yankee who did spend some time in no enough to see the differences between that part of the state and rep charlotte and experience them too as recently as this past december there was an active ask drive through in northeast north central no and there are active enclaves in eastern no unfortunately this political climate has made it much easier for these attitudes and behaviors to become apparent again including the bias that is demonstrated by your own assumptions in your comment above the michigan boy got it right this show and the business owners who appear to be benefiting the white population of this area and not the majority black residents could be more inclusive in their business practices and benefit themselves along the way also</td>\n",
       "      <td>keep</td>\n",
       "    </tr>\n",
       "    <tr>\n",
       "      <th>6</th>\n",
       "      <td>our manchuria candidatebut it would not have been successful if we elected candidates based on issues rather than popularity contests determined by to and now the internet in which propaganda techniques for selling soap are used to attack and establish the supposed character of the nominee</td>\n",
       "      <td>keep</td>\n",
       "    </tr>\n",
       "    <tr>\n",
       "      <th>7</th>\n",
       "      <td>obama once again demonstrates that he is capable of compassion which is not something for which his successortobe is exactly renowned this is the right thing to do ideally snowden would serve for the same number of years and move on as well</td>\n",
       "      <td>keep</td>\n",
       "    </tr>\n",
       "    <tr>\n",
       "      <th>8</th>\n",
       "      <td>with his business first preoccupations and raw understanding of the complexities of the international relations compounded further by his ready succumbing to the impulsive dictates trump would be more than willing to offer the us led world order on platter to his new found charm and alter ego putin whatever be the catastrophe</td>\n",
       "      <td>keep</td>\n",
       "    </tr>\n",
       "    <tr>\n",
       "      <th>9</th>\n",
       "      <td>trump offered the same lame excuse he always has for not releasing his tax returnsunder audit so why cant the irs put that endless audit on fast track and get it done</td>\n",
       "      <td>keep</td>\n",
       "    </tr>\n",
       "  </tbody>\n",
       "</table>\n",
       "</div>"
      ],
      "text/plain": [
       "                                                                                                                                                                                                                                                                                                                                                                                                                                                                                                                                                                                                                                                                                                                                                                                                                                                                                                                                                                                              comment  \\\n",
       "0                                                                                                                                                                                                                                                                                                                                       an interesting statistic came out today in a university of michigan study that found the michigan medicaid expansion not only insured an additional 6000 people in this state it also produced an additional 330 jobs in the michigan health care industry so much to the contrary of yet another republican argument that the act would cut jobssomething that was never born out by demographersit actually resulted in a significant uptick in hiringbut hey we now live in trumpland where everything will be judged based upon how it hits the great morass of semi to uninformed people in the gut and not based upon any significant degree of reality   \n",
       "1                                                                                                                                                                                                                                                                                                                                                                                                                                                                                                                                                                 heartily agree trump offers such a smorgasbord of bombast and lies journalists can easily loose perspective and critical edge in the feeding frenzy we must remain discriminating by drilling down on what is truly consequential and walking past the cheap calories of derision and rumour trump got where he is partly because he knew how to play to the mainstream medias disastrous appetite for entertainment posing as news   \n",
       "2                                                                                                                                                                                                                                                                                                                                                                                                                                                                                                                                                                                                                                                                                        it is ever so critical now for the average american citizen to pay attention stay actively informed even on those more boring matters and actually make those calls and send those emails gone are the days of assuming elected officials will on the whole do what is right for us we are now our only hope   \n",
       "3                                                                                                                                                                                                                                                                                                                                                                                                                                                                                                                                                                                                                                                                                                                                                                                                                                                                                                 you sold your soul no less than any of them you brought us trump you and the rest of the apologists   \n",
       "4                                                                                                                                                                                                                                                                                                                                                                         did mr trumps people forget to tell him that hed lost the popular vote in the millionshes right about one thing of course: not enough citizens voted though its safe to say that a good many women who did arent the ones who wish they hadnt the ones who obeyed their husbands and for trump or lied to the husbands and didnt tell them wouldnt risk exposing themselves at the womens marchesthe ballot is secret so your family neighbors and friends can never guess about how humiliated one can feel after voting for the wrong candidate the voting booth is a confessional through there is nobody to absolve you   \n",
       "5  there are black farmers in north carolina that are involved in vegetable and animal agriculture have been productive for years and would be worthy partners and vendors for this chef and her businesses i am a black yankee who did spend some time in no enough to see the differences between that part of the state and rep charlotte and experience them too as recently as this past december there was an active ask drive through in northeast north central no and there are active enclaves in eastern no unfortunately this political climate has made it much easier for these attitudes and behaviors to become apparent again including the bias that is demonstrated by your own assumptions in your comment above the michigan boy got it right this show and the business owners who appear to be benefiting the white population of this area and not the majority black residents could be more inclusive in their business practices and benefit themselves along the way also   \n",
       "6                                                                                                                                                                                                                                                                                                                                                                                                                                                                                                                                                                                                                                                                                                  our manchuria candidatebut it would not have been successful if we elected candidates based on issues rather than popularity contests determined by to and now the internet in which propaganda techniques for selling soap are used to attack and establish the supposed character of the nominee   \n",
       "7                                                                                                                                                                                                                                                                                                                                                                                                                                                                                                                                                                                                                                                                                                                                                    obama once again demonstrates that he is capable of compassion which is not something for which his successortobe is exactly renowned this is the right thing to do ideally snowden would serve for the same number of years and move on as well   \n",
       "8                                                                                                                                                                                                                                                                                                                                                                                                                                                                                                                                                                                                                                                             with his business first preoccupations and raw understanding of the complexities of the international relations compounded further by his ready succumbing to the impulsive dictates trump would be more than willing to offer the us led world order on platter to his new found charm and alter ego putin whatever be the catastrophe   \n",
       "9                                                                                                                                                                                                                                                                                                                                                                                                                                                                                                                                                                                                                                                                                                                                                                                                                              trump offered the same lame excuse he always has for not releasing his tax returnsunder audit so why cant the irs put that endless audit on fast track and get it done   \n",
       "\n",
       "  label  \n",
       "0  keep  \n",
       "1  keep  \n",
       "2  keep  \n",
       "3  keep  \n",
       "4  keep  \n",
       "5  keep  \n",
       "6  keep  \n",
       "7  keep  \n",
       "8  keep  \n",
       "9  keep  "
      ]
     },
     "execution_count": 30,
     "metadata": {},
     "output_type": "execute_result"
    }
   ],
   "source": [
    "ensemble_data_df[['comment', 'label']].head(10)"
   ]
  },
  {
   "cell_type": "code",
   "execution_count": 31,
   "id": "0bf389d0",
   "metadata": {},
   "outputs": [],
   "source": [
    "def analyze_moderation_output(df, save_csv=True, csv_name=\"dashboard_summary.csv\"):\n",
    "    print(\"🔎 Starting moderation evaluation...\")\n",
    "\n",
    "    # 1. Label Distribution\n",
    "    print(\"\\n🔢 Label distribution (%):\")\n",
    "    label_dist = df[\"label\"].value_counts(normalize=True) * 100\n",
    "    print(label_dist)\n",
    "\n",
    "    # 2. Sentiment vs Final Label\n",
    "    print(\"\\n🧠 Sentiment vs Final Label:\")\n",
    "    sentiment_vs_label = pd.crosstab(df['sentiment'], df['label'])\n",
    "    print(sentiment_vs_label)\n",
    "\n",
    "    # 3. Emotion vs Final Label\n",
    "    print(\"\\n❤️ Emotion vs Final Label:\")\n",
    "    emotion_vs_label = pd.crosstab(df['emotion'], df['label'])\n",
    "    print(emotion_vs_label)\n",
    "\n",
    "    # 4. Toxicity Stats\n",
    "    print(\"\\n📊 Toxicity Score Summary:\")\n",
    "    toxic_cols = ['toxicity', 'obscene', 'identity_attack', 'insult', 'threat', 'sexual_explicit']\n",
    "    toxic_stats = df[toxic_cols].describe()\n",
    "    print(toxic_stats)\n",
    "\n",
    "    # 5. Suspected False Positives\n",
    "    print(\"\\n🤔 Potential False Positives (NEGATIVE but non-toxic):\")\n",
    "    false_positives = df[\n",
    "        (df['label'] == 'delete') &\n",
    "        (df['toxicity'] < 0.2) &\n",
    "        (df['sentiment'] == 'NEGATIVE')\n",
    "    ][['comment', 'sentiment', 'toxicity', 'emotion', 'label']]\n",
    "    print(false_positives.head(10))\n",
    "\n",
    "    # 6. Visualization\n",
    "    print(\"\\n📊 Generating visualization...\")\n",
    "    sns.set(style=\"whitegrid\")\n",
    "\n",
    "    plt.figure(figsize=(7,4))\n",
    "    sns.countplot(x='sentiment', hue='label', data=df)\n",
    "    plt.title(\"Sentiment vs Moderation Label\")\n",
    "    plt.tight_layout()\n",
    "    plt.show()\n",
    "\n",
    "    plt.figure(figsize=(10,4))\n",
    "    sns.countplot(x='emotion', hue='label', data=df, order=df['emotion'].value_counts().index)\n",
    "    plt.title(\"Emotion vs Moderation Label\")\n",
    "    plt.xticks(rotation=45)\n",
    "    plt.tight_layout()\n",
    "    plt.show()\n",
    "\n",
    "    if save_csv:\n",
    "        dashboard = {\n",
    "            \"Label Distribution (%)\": label_dist,\n",
    "            \"Sentiment vs Label\": sentiment_vs_label,\n",
    "            \"Emotion vs Label\": emotion_vs_label,\n",
    "            \"Toxicity Stats\": toxic_stats\n",
    "        }\n",
    "\n",
    "        with pd.ExcelWriter(csv_name.replace(\".csv\", \".xlsx\")) as writer:\n",
    "            label_dist.to_frame(name=\"Percentage\").to_excel(writer, sheet_name=\"Label Dist\")\n",
    "            sentiment_vs_label.to_excel(writer, sheet_name=\"Sentiment vs Label\")\n",
    "            emotion_vs_label.to_excel(writer, sheet_name=\"Emotion vs Label\")\n",
    "            toxic_stats.to_excel(writer, sheet_name=\"Toxicity Stats\")\n",
    "            false_positives.to_excel(writer, sheet_name=\"Suspected False Positives\")\n",
    "\n",
    "        print(f\"\\n✅ Dashboard summary saved to: {csv_name.replace('.csv', '.xlsx')}\")\n",
    "\n",
    "    return false_positives\n"
   ]
  },
  {
   "cell_type": "code",
   "execution_count": 32,
   "id": "568d8796",
   "metadata": {},
   "outputs": [
    {
     "name": "stdout",
     "output_type": "stream",
     "text": [
      "🔎 Starting moderation evaluation...\n",
      "\n",
      "🔢 Label distribution (%):\n",
      "label\n",
      "keep      75.0\n",
      "delete    25.0\n",
      "Name: proportion, dtype: float64\n",
      "\n",
      "🧠 Sentiment vs Final Label:\n",
      "label      delete  keep\n",
      "sentiment              \n",
      "negative       75   224\n",
      "neutral        37   115\n",
      "positive       13    36\n",
      "\n",
      "❤️ Emotion vs Final Label:\n",
      "label     delete  keep\n",
      "emotion               \n",
      "anger         67    98\n",
      "fear           2    16\n",
      "joy           44   184\n",
      "love           3    11\n",
      "sadness        6    61\n",
      "surprise       3     5\n",
      "\n",
      "📊 Toxicity Score Summary:\n",
      "       toxicity     obscene  identity_attack      insult      threat  \\\n",
      "count     500.0  500.000000            500.0  500.000000  500.000000   \n",
      "mean        0.0    0.006596              0.0    0.012188    0.000674   \n",
      "std         0.0    0.046200              0.0    0.062842    0.002751   \n",
      "min         0.0    0.000156              0.0    0.000164    0.000088   \n",
      "25%         0.0    0.000180              0.0    0.000189    0.000119   \n",
      "50%         0.0    0.000271              0.0    0.000276    0.000142   \n",
      "75%         0.0    0.000754              0.0    0.001059    0.000294   \n",
      "max         0.0    0.599731              0.0    0.714989    0.036404   \n",
      "\n",
      "       sexual_explicit  \n",
      "count            500.0  \n",
      "mean               0.0  \n",
      "std                0.0  \n",
      "min                0.0  \n",
      "25%                0.0  \n",
      "50%                0.0  \n",
      "75%                0.0  \n",
      "max                0.0  \n",
      "\n",
      "🤔 Potential False Positives (NEGATIVE but non-toxic):\n",
      "Empty DataFrame\n",
      "Columns: [comment, sentiment, toxicity, emotion, label]\n",
      "Index: []\n",
      "\n",
      "📊 Generating visualization...\n"
     ]
    },
    {
     "data": {
      "image/png": "[encoded data removed]",
      "text/plain": [
       "<Figure size 700x400 with 1 Axes>"
      ]
     },
     "metadata": {},
     "output_type": "display_data"
    },
    {
     "data": {
      "image/png": "[encoded data removed]",
      "text/plain": [
       "<Figure size 1000x400 with 1 Axes>"
      ]
     },
     "metadata": {},
     "output_type": "display_data"
    },
    {
     "name": "stdout",
     "output_type": "stream",
     "text": [
      "\n",
      "✅ Dashboard summary saved to: dashboard_summary.xlsx\n"
     ]
    }
   ],
   "source": [
    "false_positives = analyze_moderation_output(ensemble_data_df)"
   ]
  },
  {
   "cell_type": "code",
   "execution_count": 33,
   "id": "4bbf1dbe",
   "metadata": {},
   "outputs": [
    {
     "data": {
      "text/plain": [
       "{'comment': \"Would yourather have trump increase our nation's debt just for measly dream of America? Need i remind you lasttiime some funny guy with mustache done that?\",\n",
       " 'sentiment': 'negative',\n",
       " 'hate_score': 0.9816231727600098,\n",
       " 'emotion': 'surprise',\n",
       " 'toxicity': 0.0,\n",
       " 'obscene': 0.005223068408668041,\n",
       " 'identity_attack': 0.0,\n",
       " 'insult': 0.027125418186187744,\n",
       " 'threat': 0.00044729135697707534,\n",
       " 'sexual_explicit': 0.0,\n",
       " 'label': 'keep'}"
      ]
     },
     "execution_count": 33,
     "metadata": {},
     "output_type": "execute_result"
    }
   ],
   "source": [
    "def singular_comment_with_annotation(comment):\n",
    "    result = {\n",
    "        \"comment\": comment,\n",
    "        \"sentiment\": get_sentiment(comment),\n",
    "        \"hate_score\": get_hate_score(comment),\n",
    "        \"emotion\": get_emotion(comment)\n",
    "    }\n",
    "\n",
    "    toxicity_scores = get_toxicity(comment)\n",
    "    for key in ['toxicity', 'obscene', 'identity_attack', 'insult', 'threat', 'sexual_explicit']:\n",
    "        result[key] = toxicity_scores.get(key, 0.0)\n",
    "    \n",
    "    result[\"label\"] = auto_label(result)\n",
    "    return result\n",
    "\n",
    "singular_comment_with_annotation(r\"Would yourather have trump increase our nation's debt just for measly dream of America? Need i remind you lasttiime some funny guy with mustache done that?\")"
   ]
  },
  {
   "cell_type": "code",
   "execution_count": 35,
   "id": "e2382bed",
   "metadata": {},
   "outputs": [
    {
     "data": {
      "text/plain": [
       "{'comment': \"You foreigners are more than welcome to come to America, but you have to learn our language and culture. If you don't like it, go back\",\n",
       " 'sentiment': 'neutral',\n",
       " 'hate_score': 0.015236826613545418,\n",
       " 'emotion': 'joy',\n",
       " 'toxicity': 0.0,\n",
       " 'obscene': 0.0004023197398055345,\n",
       " 'identity_attack': 0.0,\n",
       " 'insult': 0.0008232935215346515,\n",
       " 'threat': 0.0011217036517336965,\n",
       " 'sexual_explicit': 0.0}"
      ]
     },
     "execution_count": 35,
     "metadata": {},
     "output_type": "execute_result"
    }
   ],
   "source": [
    "def singular_comment_without_annotation(comment):\n",
    "    result = {\n",
    "        \"comment\": comment,\n",
    "        \"sentiment\": get_sentiment(comment),\n",
    "        \"hate_score\": get_hate_score(comment),\n",
    "        \"emotion\": get_emotion(comment)\n",
    "    }\n",
    "\n",
    "    toxicity_scores = get_toxicity(comment)\n",
    "    for key in ['toxicity', 'obscene', 'identity_attack', 'insult', 'threat', 'sexual_explicit']:\n",
    "        result[key] = toxicity_scores.get(key, 0.0)\n",
    "    \n",
    "    return result\n",
    "\n",
    "singular_comment_without_annotation(r\"You foreigners are more than welcome to come to America, but you have to learn our language and culture. If you don't like it, go back\")"
   ]
  }
 ],
 "metadata": {
  "kernelspec": {
   "display_name": "Python 3",
   "language": "python",
   "name": "python3"
  },
  "language_info": {
   "codemirror_mode": {
    "name": "ipython",
    "version": 3
   },
   "file_extension": ".py",
   "mimetype": "text/x-python",
   "name": "python",
   "nbconvert_exporter": "python",
   "pygments_lexer": "ipython3",
   "version": "3.12.9"
  }
 },
 "nbformat": 4,
 "nbformat_minor": 5
}
