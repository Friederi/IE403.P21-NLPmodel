{
 "cells": [
  {
   "cell_type": "markdown",
   "id": "cbe3f020",
   "metadata": {},
   "source": [
    "# Library import"
   ]
  },
  {
   "cell_type": "code",
   "execution_count": 1,
   "id": "84724c78",
   "metadata": {},
   "outputs": [
    {
     "name": "stderr",
     "output_type": "stream",
     "text": [
      "c:\\Users\\nkhoa2\\Desktop\\Github\\Test\\.venv\\Lib\\site-packages\\tqdm\\auto.py:21: TqdmWarning: IProgress not found. Please update jupyter and ipywidgets. See https://ipywidgets.readthedocs.io/en/stable/user_install.html\n",
      "  from .autonotebook import tqdm as notebook_tqdm\n"
     ]
    }
   ],
   "source": [
    "import pandas as pd\n",
    "import numpy as np\n",
    "import torch\n",
    "import os\n",
    "import matplotlib.pyplot as plt\n",
    "\n",
    "from transformers import pipeline, AutoTokenizer, AutoModelForSequenceClassification\n",
    "from torch.nn.functional import softmax\n",
    "from tqdm import tqdm\n",
    "\n",
    "#pd.set_option('display.max_colwidth', None)"
   ]
  },
  {
   "cell_type": "markdown",
   "id": "7b7a5d75",
   "metadata": {},
   "source": [
    "# Data Load"
   ]
  },
  {
   "cell_type": "code",
   "execution_count": 2,
   "id": "dd0c77ee",
   "metadata": {},
   "outputs": [
    {
     "name": "stderr",
     "output_type": "stream",
     "text": [
      "C:\\Users\\nkhoa2\\AppData\\Local\\Temp\\ipykernel_20644\\17680083.py:2: DtypeWarning: Columns (14,15,31,32) have mixed types. Specify dtype option on import or set low_memory=False.\n",
      "  df_test = pd.read_csv(path)\n"
     ]
    }
   ],
   "source": [
    "path = os.path.join(os.getcwd(), 'Data', 'DataTestComment.csv')\n",
    "df_test = pd.read_csv(path)"
   ]
  },
  {
   "cell_type": "code",
   "execution_count": 3,
   "id": "d8d9f4a3",
   "metadata": {},
   "outputs": [
    {
     "name": "stdout",
     "output_type": "stream",
     "text": [
      "Quick mode activated. Using a smaller sample for testing.\n"
     ]
    }
   ],
   "source": [
    "df_test = df_test.dropna(subset=[\"commentBody\"])                          # removes NaNs\n",
    "df_test = df_test[df_test[\"commentBody\"].str.len() > 0]                   # removes empty strings\n",
    "df_sample = df_test.sample(2000, random_state=42).reset_index(drop=True)  # sample 2000 rows\n",
    "df_sample.to_csv('Data/Sample.csv', index=False, mode='w+')               # save sample to CSV\n",
    "\n",
    "quick_mode = True\n",
    "if quick_mode:\n",
    "    df_use = df_sample\n",
    "    print(\"Quick mode activated. Using a smaller sample for testing.\")\n",
    "else:\n",
    "    df_use = df_test\n",
    "    print(\"Using the full dataset for sentiment analysis.\")\n",
    "\n",
    "comments = df_use[\"commentBody\"].tolist()"
   ]
  },
  {
   "cell_type": "markdown",
   "id": "5d4b8c81",
   "metadata": {},
   "source": [
    "# Annotation"
   ]
  },
  {
   "cell_type": "markdown",
   "id": "9f9dca93",
   "metadata": {},
   "source": [
    "## Calling all pretrained model"
   ]
  },
  {
   "cell_type": "code",
   "execution_count": 4,
   "id": "39ab0f66",
   "metadata": {},
   "outputs": [
    {
     "name": "stderr",
     "output_type": "stream",
     "text": [
      "Device set to use cpu\n",
      "Device set to use cpu\n"
     ]
    }
   ],
   "source": [
    "sentiment_pipe = pipeline(\"sentiment-analysis\", model=\"cardiffnlp/twitter-roberta-base-sentiment\")\n",
    "toxicity_pipe = pipeline(\"text-classification\", model=\"unitary/toxic-bert\", top_k=None)"
   ]
  },
  {
   "cell_type": "code",
   "execution_count": 5,
   "id": "63fc9fb7",
   "metadata": {},
   "outputs": [],
   "source": [
    "emotion_model = AutoModelForSequenceClassification.from_pretrained(\"nateraw/bert-base-uncased-emotion\")\n",
    "emotion_tokenizer = AutoTokenizer.from_pretrained(\"nateraw/bert-base-uncased-emotion\")\n",
    "emotion_model.eval()  # Set the model to evaluation mode\n",
    "\n",
    "def get_emotion(text):\n",
    "    inputs = emotion_tokenizer(text, return_tensors=\"pt\", truncation=True)\n",
    "    with torch.no_grad():\n",
    "        logits = emotion_model(**inputs).logits\n",
    "    predicted_class = torch.argmax(logits, dim=1).item()\n",
    "    label_list = ['sadness', 'joy', 'love', 'anger', 'fear', 'surprise']\n",
    "    return label_list[predicted_class]"
   ]
  },
  {
   "cell_type": "code",
   "execution_count": 6,
   "id": "1b89b5af",
   "metadata": {},
   "outputs": [],
   "source": [
    "hate_model = AutoModelForSequenceClassification.from_pretrained(\"facebook/roberta-hate-speech-dynabench-r4-target\")\n",
    "hate_tokenizer = AutoTokenizer.from_pretrained(\"facebook/roberta-hate-speech-dynabench-r4-target\")\n",
    "hate_model.eval()  # Set the model to evaluation mode\n",
    "\n",
    "def get_hate_score(text):\n",
    "    try:\n",
    "        inputs = hate_tokenizer(text, return_tensors=\"pt\", truncation=True)\n",
    "        with torch.no_grad():\n",
    "            outputs = hate_model(**inputs)\n",
    "            scores = torch.sigmoid(outputs.logits)\n",
    "        return scores[0][0].item()\n",
    "    except:\n",
    "        return 0.0"
   ]
  },
  {
   "cell_type": "code",
   "execution_count": 7,
   "id": "f569506e",
   "metadata": {},
   "outputs": [],
   "source": [
    "def get_sentiment(text):\n",
    "    try:\n",
    "        result = sentiment_pipe(text)[0]\n",
    "        label_map = {\n",
    "            \"LABEL_0\": \"negative\",\n",
    "            \"LABEL_1\": \"neutral\",\n",
    "            \"LABEL_2\": \"positive\"\n",
    "        }\n",
    "        return label_map.get(result[\"label\"], \"UNKNOWN\")\n",
    "    except:\n",
    "        return \"UNKNOWN\"\n",
    "\n",
    "def get_toxicity(text):\n",
    "    try:\n",
    "        result = toxicity_pipe(text)[0]\n",
    "        return {r['label'].lower(): r['score'] for r in result}\n",
    "    except:\n",
    "        return {}"
   ]
  },
  {
   "cell_type": "code",
   "execution_count": 8,
   "id": "53ea3f49",
   "metadata": {},
   "outputs": [
    {
     "name": "stderr",
     "output_type": "stream",
     "text": [
      "100%|██████████| 2000/2000 [09:48<00:00,  3.40it/s]\n"
     ]
    }
   ],
   "source": [
    "ensemble_data = []\n",
    "for comment in tqdm(comments[:2000]):  # limit to 2000 rows for now\n",
    "    result = {\n",
    "        \"comment\": comment,\n",
    "        \"sentiment\": get_sentiment(comment),\n",
    "        \"hate_score\": get_hate_score(comment),\n",
    "        \"emotion\": get_emotion(comment)\n",
    "    }\n",
    "\n",
    "    toxicity_scores = get_toxicity(comment)\n",
    "    for key in ['toxicity', 'obscene', 'identity_attack', 'insult', 'threat', 'sexual_explicit']:\n",
    "        result[key] = toxicity_scores.get(key, 0.0)\n",
    "    \n",
    "    result[\"label\"] = \"unknown\"  # placeholder for manual or rule-based label\n",
    "    ensemble_data.append(result)"
   ]
  },
  {
   "cell_type": "code",
   "execution_count": 9,
   "id": "ff54670a",
   "metadata": {},
   "outputs": [
    {
     "data": {
      "text/html": [
       "<div>\n",
       "<style scoped>\n",
       "    .dataframe tbody tr th:only-of-type {\n",
       "        vertical-align: middle;\n",
       "    }\n",
       "\n",
       "    .dataframe tbody tr th {\n",
       "        vertical-align: top;\n",
       "    }\n",
       "\n",
       "    .dataframe thead th {\n",
       "        text-align: right;\n",
       "    }\n",
       "</style>\n",
       "<table border=\"1\" class=\"dataframe\">\n",
       "  <thead>\n",
       "    <tr style=\"text-align: right;\">\n",
       "      <th></th>\n",
       "      <th>comment</th>\n",
       "      <th>sentiment</th>\n",
       "      <th>hate_score</th>\n",
       "      <th>emotion</th>\n",
       "      <th>toxicity</th>\n",
       "      <th>obscene</th>\n",
       "      <th>identity_attack</th>\n",
       "      <th>insult</th>\n",
       "      <th>threat</th>\n",
       "      <th>sexual_explicit</th>\n",
       "      <th>label</th>\n",
       "    </tr>\n",
       "  </thead>\n",
       "  <tbody>\n",
       "    <tr>\n",
       "      <th>0</th>\n",
       "      <td>an interesting statistic came out today in a u...</td>\n",
       "      <td>neutral</td>\n",
       "      <td>0.866758</td>\n",
       "      <td>joy</td>\n",
       "      <td>0.0</td>\n",
       "      <td>0.000181</td>\n",
       "      <td>0.0</td>\n",
       "      <td>0.000184</td>\n",
       "      <td>0.000111</td>\n",
       "      <td>0.0</td>\n",
       "      <td>unknown</td>\n",
       "    </tr>\n",
       "    <tr>\n",
       "      <th>1</th>\n",
       "      <td>heartily agree trump offers such a smorgasbord...</td>\n",
       "      <td>negative</td>\n",
       "      <td>0.939092</td>\n",
       "      <td>sadness</td>\n",
       "      <td>0.0</td>\n",
       "      <td>0.000290</td>\n",
       "      <td>0.0</td>\n",
       "      <td>0.000248</td>\n",
       "      <td>0.000121</td>\n",
       "      <td>0.0</td>\n",
       "      <td>unknown</td>\n",
       "    </tr>\n",
       "    <tr>\n",
       "      <th>2</th>\n",
       "      <td>it is ever so critical now for the average ame...</td>\n",
       "      <td>neutral</td>\n",
       "      <td>0.982114</td>\n",
       "      <td>joy</td>\n",
       "      <td>0.0</td>\n",
       "      <td>0.000183</td>\n",
       "      <td>0.0</td>\n",
       "      <td>0.000209</td>\n",
       "      <td>0.000142</td>\n",
       "      <td>0.0</td>\n",
       "      <td>unknown</td>\n",
       "    </tr>\n",
       "    <tr>\n",
       "      <th>3</th>\n",
       "      <td>you sold your soul no less than any of them yo...</td>\n",
       "      <td>negative</td>\n",
       "      <td>0.808653</td>\n",
       "      <td>anger</td>\n",
       "      <td>0.0</td>\n",
       "      <td>0.007351</td>\n",
       "      <td>0.0</td>\n",
       "      <td>0.068120</td>\n",
       "      <td>0.015863</td>\n",
       "      <td>0.0</td>\n",
       "      <td>unknown</td>\n",
       "    </tr>\n",
       "    <tr>\n",
       "      <th>4</th>\n",
       "      <td>did mr trumps people forget to tell him that h...</td>\n",
       "      <td>negative</td>\n",
       "      <td>0.870100</td>\n",
       "      <td>sadness</td>\n",
       "      <td>0.0</td>\n",
       "      <td>0.000403</td>\n",
       "      <td>0.0</td>\n",
       "      <td>0.000518</td>\n",
       "      <td>0.000147</td>\n",
       "      <td>0.0</td>\n",
       "      <td>unknown</td>\n",
       "    </tr>\n",
       "    <tr>\n",
       "      <th>5</th>\n",
       "      <td>there are black farmers in north carolina that...</td>\n",
       "      <td>neutral</td>\n",
       "      <td>0.938146</td>\n",
       "      <td>joy</td>\n",
       "      <td>0.0</td>\n",
       "      <td>0.000279</td>\n",
       "      <td>0.0</td>\n",
       "      <td>0.000296</td>\n",
       "      <td>0.000150</td>\n",
       "      <td>0.0</td>\n",
       "      <td>unknown</td>\n",
       "    </tr>\n",
       "    <tr>\n",
       "      <th>6</th>\n",
       "      <td>our manchuria candidatebut it would not have b...</td>\n",
       "      <td>negative</td>\n",
       "      <td>0.975874</td>\n",
       "      <td>joy</td>\n",
       "      <td>0.0</td>\n",
       "      <td>0.000169</td>\n",
       "      <td>0.0</td>\n",
       "      <td>0.000191</td>\n",
       "      <td>0.000121</td>\n",
       "      <td>0.0</td>\n",
       "      <td>unknown</td>\n",
       "    </tr>\n",
       "    <tr>\n",
       "      <th>7</th>\n",
       "      <td>obama once again demonstrates that he is capab...</td>\n",
       "      <td>neutral</td>\n",
       "      <td>0.971533</td>\n",
       "      <td>joy</td>\n",
       "      <td>0.0</td>\n",
       "      <td>0.000172</td>\n",
       "      <td>0.0</td>\n",
       "      <td>0.000178</td>\n",
       "      <td>0.000130</td>\n",
       "      <td>0.0</td>\n",
       "      <td>unknown</td>\n",
       "    </tr>\n",
       "    <tr>\n",
       "      <th>8</th>\n",
       "      <td>with his business first preoccupations and raw...</td>\n",
       "      <td>neutral</td>\n",
       "      <td>0.896069</td>\n",
       "      <td>joy</td>\n",
       "      <td>0.0</td>\n",
       "      <td>0.000259</td>\n",
       "      <td>0.0</td>\n",
       "      <td>0.000253</td>\n",
       "      <td>0.000116</td>\n",
       "      <td>0.0</td>\n",
       "      <td>unknown</td>\n",
       "    </tr>\n",
       "    <tr>\n",
       "      <th>9</th>\n",
       "      <td>trump offered the same lame excuse he always h...</td>\n",
       "      <td>negative</td>\n",
       "      <td>0.928705</td>\n",
       "      <td>sadness</td>\n",
       "      <td>0.0</td>\n",
       "      <td>0.000233</td>\n",
       "      <td>0.0</td>\n",
       "      <td>0.000241</td>\n",
       "      <td>0.000104</td>\n",
       "      <td>0.0</td>\n",
       "      <td>unknown</td>\n",
       "    </tr>\n",
       "  </tbody>\n",
       "</table>\n",
       "</div>"
      ],
      "text/plain": [
       "                                             comment sentiment  hate_score  \\\n",
       "0  an interesting statistic came out today in a u...   neutral    0.866758   \n",
       "1  heartily agree trump offers such a smorgasbord...  negative    0.939092   \n",
       "2  it is ever so critical now for the average ame...   neutral    0.982114   \n",
       "3  you sold your soul no less than any of them yo...  negative    0.808653   \n",
       "4  did mr trumps people forget to tell him that h...  negative    0.870100   \n",
       "5  there are black farmers in north carolina that...   neutral    0.938146   \n",
       "6  our manchuria candidatebut it would not have b...  negative    0.975874   \n",
       "7  obama once again demonstrates that he is capab...   neutral    0.971533   \n",
       "8  with his business first preoccupations and raw...   neutral    0.896069   \n",
       "9  trump offered the same lame excuse he always h...  negative    0.928705   \n",
       "\n",
       "   emotion  toxicity   obscene  identity_attack    insult    threat  \\\n",
       "0      joy       0.0  0.000181              0.0  0.000184  0.000111   \n",
       "1  sadness       0.0  0.000290              0.0  0.000248  0.000121   \n",
       "2      joy       0.0  0.000183              0.0  0.000209  0.000142   \n",
       "3    anger       0.0  0.007351              0.0  0.068120  0.015863   \n",
       "4  sadness       0.0  0.000403              0.0  0.000518  0.000147   \n",
       "5      joy       0.0  0.000279              0.0  0.000296  0.000150   \n",
       "6      joy       0.0  0.000169              0.0  0.000191  0.000121   \n",
       "7      joy       0.0  0.000172              0.0  0.000178  0.000130   \n",
       "8      joy       0.0  0.000259              0.0  0.000253  0.000116   \n",
       "9  sadness       0.0  0.000233              0.0  0.000241  0.000104   \n",
       "\n",
       "   sexual_explicit    label  \n",
       "0              0.0  unknown  \n",
       "1              0.0  unknown  \n",
       "2              0.0  unknown  \n",
       "3              0.0  unknown  \n",
       "4              0.0  unknown  \n",
       "5              0.0  unknown  \n",
       "6              0.0  unknown  \n",
       "7              0.0  unknown  \n",
       "8              0.0  unknown  \n",
       "9              0.0  unknown  "
      ]
     },
     "execution_count": 9,
     "metadata": {},
     "output_type": "execute_result"
    }
   ],
   "source": [
    "ensemble_data_df = pd.DataFrame(ensemble_data)\n",
    "ensemble_data_df.head(10)"
   ]
  }
 ],
 "metadata": {
  "kernelspec": {
   "display_name": ".venv",
   "language": "python",
   "name": "python3"
  },
  "language_info": {
   "codemirror_mode": {
    "name": "ipython",
    "version": 3
   },
   "file_extension": ".py",
   "mimetype": "text/x-python",
   "name": "python",
   "nbconvert_exporter": "python",
   "pygments_lexer": "ipython3",
   "version": "3.12.10"
  }
 },
 "nbformat": 4,
 "nbformat_minor": 5
}
