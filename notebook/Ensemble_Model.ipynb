{
 "cells": [
  {
   "cell_type": "markdown",
   "id": "438e5a3a",
   "metadata": {},
   "source": [
    "# Library import"
   ]
  },
  {
   "cell_type": "code",
   "execution_count": 16,
   "id": "ed6a8163",
   "metadata": {},
   "outputs": [],
   "source": [
    "%run import_utils.py"
   ]
  },
  {
   "cell_type": "code",
   "execution_count": 2,
   "id": "84d0dbf0",
   "metadata": {},
   "outputs": [],
   "source": [
    "from inference.Annotation_Untils import singular_comment_without_annotation, annotate_comment, auto_label\n",
    "from inference.DataCleaning_Untils import clean_comment\n",
    "\n",
    "import pandas as pd\n",
    "import os\n",
    "import torch\n",
    "import numpy as np\n",
    "import seaborn as sns\n",
    "import matplotlib.pyplot as plt\n",
    "\n",
    "from transformers import BertTokenizer, BertModel\n",
    "from tqdm import tqdm\n",
    "from sklearn.preprocessing import LabelEncoder\n",
    "from sklearn.model_selection import train_test_split\n",
    "from sklearn.svm import SVC\n",
    "from sklearn.metrics import classification_report, confusion_matrix, accuracy_score, precision_recall_fscore_support, roc_curve, auc, precision_recall_curve\n",
    "\n",
    "import torch\n",
    "import torch.nn as nn\n",
    "import torch.nn.functional as F\n",
    "from torch.utils.data import Dataset, DataLoader"
   ]
  },
  {
   "cell_type": "markdown",
   "id": "f8f71e24",
   "metadata": {},
   "source": [
    "# Data Load"
   ]
  },
  {
   "cell_type": "code",
   "execution_count": 18,
   "id": "b8a9c7ff",
   "metadata": {},
   "outputs": [
    {
     "data": {
      "text/html": [
       "<div>\n",
       "<style scoped>\n",
       "    .dataframe tbody tr th:only-of-type {\n",
       "        vertical-align: middle;\n",
       "    }\n",
       "\n",
       "    .dataframe tbody tr th {\n",
       "        vertical-align: top;\n",
       "    }\n",
       "\n",
       "    .dataframe thead th {\n",
       "        text-align: right;\n",
       "    }\n",
       "</style>\n",
       "<table border=\"1\" class=\"dataframe\">\n",
       "  <thead>\n",
       "    <tr style=\"text-align: right;\">\n",
       "      <th></th>\n",
       "      <th>id</th>\n",
       "      <th>target</th>\n",
       "      <th>comment_text</th>\n",
       "      <th>severe_toxicity</th>\n",
       "      <th>obscene</th>\n",
       "      <th>identity_attack</th>\n",
       "      <th>insult</th>\n",
       "      <th>threat</th>\n",
       "      <th>asian</th>\n",
       "      <th>atheist</th>\n",
       "      <th>...</th>\n",
       "      <th>article_id</th>\n",
       "      <th>rating</th>\n",
       "      <th>funny</th>\n",
       "      <th>wow</th>\n",
       "      <th>sad</th>\n",
       "      <th>likes</th>\n",
       "      <th>disagree</th>\n",
       "      <th>sexual_explicit</th>\n",
       "      <th>identity_annotator_count</th>\n",
       "      <th>toxicity_annotator_count</th>\n",
       "    </tr>\n",
       "  </thead>\n",
       "  <tbody>\n",
       "    <tr>\n",
       "      <th>0</th>\n",
       "      <td>59848</td>\n",
       "      <td>0.000000</td>\n",
       "      <td>This is so cool. It's like, 'would you want your mother to read this??' Really great idea, well done!</td>\n",
       "      <td>0.000000</td>\n",
       "      <td>0.0</td>\n",
       "      <td>0.000000</td>\n",
       "      <td>0.00000</td>\n",
       "      <td>0.0</td>\n",
       "      <td>NaN</td>\n",
       "      <td>NaN</td>\n",
       "      <td>...</td>\n",
       "      <td>2006</td>\n",
       "      <td>rejected</td>\n",
       "      <td>0</td>\n",
       "      <td>0</td>\n",
       "      <td>0</td>\n",
       "      <td>0</td>\n",
       "      <td>0</td>\n",
       "      <td>0.0</td>\n",
       "      <td>0</td>\n",
       "      <td>4</td>\n",
       "    </tr>\n",
       "    <tr>\n",
       "      <th>1</th>\n",
       "      <td>59849</td>\n",
       "      <td>0.000000</td>\n",
       "      <td>Thank you!! This would make my life a lot less anxiety-inducing. Keep it up, and don't let anyone get in your way!</td>\n",
       "      <td>0.000000</td>\n",
       "      <td>0.0</td>\n",
       "      <td>0.000000</td>\n",
       "      <td>0.00000</td>\n",
       "      <td>0.0</td>\n",
       "      <td>NaN</td>\n",
       "      <td>NaN</td>\n",
       "      <td>...</td>\n",
       "      <td>2006</td>\n",
       "      <td>rejected</td>\n",
       "      <td>0</td>\n",
       "      <td>0</td>\n",
       "      <td>0</td>\n",
       "      <td>0</td>\n",
       "      <td>0</td>\n",
       "      <td>0.0</td>\n",
       "      <td>0</td>\n",
       "      <td>4</td>\n",
       "    </tr>\n",
       "    <tr>\n",
       "      <th>2</th>\n",
       "      <td>59852</td>\n",
       "      <td>0.000000</td>\n",
       "      <td>This is such an urgent design problem; kudos to you for taking it on. Very impressive!</td>\n",
       "      <td>0.000000</td>\n",
       "      <td>0.0</td>\n",
       "      <td>0.000000</td>\n",
       "      <td>0.00000</td>\n",
       "      <td>0.0</td>\n",
       "      <td>NaN</td>\n",
       "      <td>NaN</td>\n",
       "      <td>...</td>\n",
       "      <td>2006</td>\n",
       "      <td>rejected</td>\n",
       "      <td>0</td>\n",
       "      <td>0</td>\n",
       "      <td>0</td>\n",
       "      <td>0</td>\n",
       "      <td>0</td>\n",
       "      <td>0.0</td>\n",
       "      <td>0</td>\n",
       "      <td>4</td>\n",
       "    </tr>\n",
       "    <tr>\n",
       "      <th>3</th>\n",
       "      <td>59855</td>\n",
       "      <td>0.000000</td>\n",
       "      <td>Is this something I'll be able to install on my site? When will you be releasing it?</td>\n",
       "      <td>0.000000</td>\n",
       "      <td>0.0</td>\n",
       "      <td>0.000000</td>\n",
       "      <td>0.00000</td>\n",
       "      <td>0.0</td>\n",
       "      <td>NaN</td>\n",
       "      <td>NaN</td>\n",
       "      <td>...</td>\n",
       "      <td>2006</td>\n",
       "      <td>rejected</td>\n",
       "      <td>0</td>\n",
       "      <td>0</td>\n",
       "      <td>0</td>\n",
       "      <td>0</td>\n",
       "      <td>0</td>\n",
       "      <td>0.0</td>\n",
       "      <td>0</td>\n",
       "      <td>4</td>\n",
       "    </tr>\n",
       "    <tr>\n",
       "      <th>4</th>\n",
       "      <td>59856</td>\n",
       "      <td>0.893617</td>\n",
       "      <td>haha you guys are a bunch of losers.</td>\n",
       "      <td>0.021277</td>\n",
       "      <td>0.0</td>\n",
       "      <td>0.021277</td>\n",
       "      <td>0.87234</td>\n",
       "      <td>0.0</td>\n",
       "      <td>0.0</td>\n",
       "      <td>0.0</td>\n",
       "      <td>...</td>\n",
       "      <td>2006</td>\n",
       "      <td>rejected</td>\n",
       "      <td>0</td>\n",
       "      <td>0</td>\n",
       "      <td>0</td>\n",
       "      <td>1</td>\n",
       "      <td>0</td>\n",
       "      <td>0.0</td>\n",
       "      <td>4</td>\n",
       "      <td>47</td>\n",
       "    </tr>\n",
       "  </tbody>\n",
       "</table>\n",
       "<p>5 rows × 45 columns</p>\n",
       "</div>"
      ],
      "text/plain": [
       "      id    target  \\\n",
       "0  59848  0.000000   \n",
       "1  59849  0.000000   \n",
       "2  59852  0.000000   \n",
       "3  59855  0.000000   \n",
       "4  59856  0.893617   \n",
       "\n",
       "                                                                                                         comment_text  \\\n",
       "0               This is so cool. It's like, 'would you want your mother to read this??' Really great idea, well done!   \n",
       "1  Thank you!! This would make my life a lot less anxiety-inducing. Keep it up, and don't let anyone get in your way!   \n",
       "2                              This is such an urgent design problem; kudos to you for taking it on. Very impressive!   \n",
       "3                                Is this something I'll be able to install on my site? When will you be releasing it?   \n",
       "4                                                                                haha you guys are a bunch of losers.   \n",
       "\n",
       "   severe_toxicity  obscene  identity_attack   insult  threat  asian  atheist  \\\n",
       "0         0.000000      0.0         0.000000  0.00000     0.0    NaN      NaN   \n",
       "1         0.000000      0.0         0.000000  0.00000     0.0    NaN      NaN   \n",
       "2         0.000000      0.0         0.000000  0.00000     0.0    NaN      NaN   \n",
       "3         0.000000      0.0         0.000000  0.00000     0.0    NaN      NaN   \n",
       "4         0.021277      0.0         0.021277  0.87234     0.0    0.0      0.0   \n",
       "\n",
       "   ...  article_id    rating  funny  wow  sad  likes  disagree  \\\n",
       "0  ...        2006  rejected      0    0    0      0         0   \n",
       "1  ...        2006  rejected      0    0    0      0         0   \n",
       "2  ...        2006  rejected      0    0    0      0         0   \n",
       "3  ...        2006  rejected      0    0    0      0         0   \n",
       "4  ...        2006  rejected      0    0    0      1         0   \n",
       "\n",
       "   sexual_explicit  identity_annotator_count  toxicity_annotator_count  \n",
       "0              0.0                         0                         4  \n",
       "1              0.0                         0                         4  \n",
       "2              0.0                         0                         4  \n",
       "3              0.0                         0                         4  \n",
       "4              0.0                         4                        47  \n",
       "\n",
       "[5 rows x 45 columns]"
      ]
     },
     "execution_count": 18,
     "metadata": {},
     "output_type": "execute_result"
    }
   ],
   "source": [
    "path = os.path.join(os.getcwd(), '..','Data', 'Train', 'train.csv') # Adjust the path as needed\n",
    "df = pd.read_csv(path)\n",
    "df = df.dropna(subset=['comment_text'])\n",
    "df.head()"
   ]
  },
  {
   "cell_type": "code",
   "execution_count": null,
   "id": "ee2b086b",
   "metadata": {},
   "outputs": [],
   "source": [
    "df = df[['id', 'comment_text']]"
   ]
  },
  {
   "cell_type": "code",
   "execution_count": null,
   "id": "db35a327",
   "metadata": {},
   "outputs": [
    {
     "data": {
      "text/html": [
       "<div>\n",
       "<style scoped>\n",
       "    .dataframe tbody tr th:only-of-type {\n",
       "        vertical-align: middle;\n",
       "    }\n",
       "\n",
       "    .dataframe tbody tr th {\n",
       "        vertical-align: top;\n",
       "    }\n",
       "\n",
       "    .dataframe thead th {\n",
       "        text-align: right;\n",
       "    }\n",
       "</style>\n",
       "<table border=\"1\" class=\"dataframe\">\n",
       "  <thead>\n",
       "    <tr style=\"text-align: right;\">\n",
       "      <th></th>\n",
       "      <th>id</th>\n",
       "      <th>comment_text</th>\n",
       "    </tr>\n",
       "  </thead>\n",
       "  <tbody>\n",
       "    <tr>\n",
       "      <th>0</th>\n",
       "      <td>59848</td>\n",
       "      <td>This is so cool. It's like, 'would you want your mother to read this??' Really great idea, well done!</td>\n",
       "    </tr>\n",
       "    <tr>\n",
       "      <th>1</th>\n",
       "      <td>59849</td>\n",
       "      <td>Thank you!! This would make my life a lot less anxiety-inducing. Keep it up, and don't let anyone get in your way!</td>\n",
       "    </tr>\n",
       "    <tr>\n",
       "      <th>2</th>\n",
       "      <td>59852</td>\n",
       "      <td>This is such an urgent design problem; kudos to you for taking it on. Very impressive!</td>\n",
       "    </tr>\n",
       "    <tr>\n",
       "      <th>3</th>\n",
       "      <td>59855</td>\n",
       "      <td>Is this something I'll be able to install on my site? When will you be releasing it?</td>\n",
       "    </tr>\n",
       "    <tr>\n",
       "      <th>4</th>\n",
       "      <td>59856</td>\n",
       "      <td>haha you guys are a bunch of losers.</td>\n",
       "    </tr>\n",
       "  </tbody>\n",
       "</table>\n",
       "</div>"
      ],
      "text/plain": [
       "      id  \\\n",
       "0  59848   \n",
       "1  59849   \n",
       "2  59852   \n",
       "3  59855   \n",
       "4  59856   \n",
       "\n",
       "                                                                                                         comment_text  \n",
       "0               This is so cool. It's like, 'would you want your mother to read this??' Really great idea, well done!  \n",
       "1  Thank you!! This would make my life a lot less anxiety-inducing. Keep it up, and don't let anyone get in your way!  \n",
       "2                              This is such an urgent design problem; kudos to you for taking it on. Very impressive!  \n",
       "3                                Is this something I'll be able to install on my site? When will you be releasing it?  \n",
       "4                                                                                haha you guys are a bunch of losers.  "
      ]
     },
     "execution_count": 4,
     "metadata": {},
     "output_type": "execute_result"
    }
   ],
   "source": [
    "df.head()"
   ]
  },
  {
   "cell_type": "markdown",
   "id": "edf53225",
   "metadata": {},
   "source": [
    "## Clean the Data (Optional)"
   ]
  },
  {
   "cell_type": "code",
   "execution_count": null,
   "id": "a1c8a3e0",
   "metadata": {},
   "outputs": [
    {
     "name": "stderr",
     "output_type": "stream",
     "text": [
      "d:\\College's course\\Social Media Insight\\IE403.P21-NLPmodel\\DataCleaning_Untils.py:50: MarkupResemblesLocatorWarning: The input passed in on this line looks more like a URL than HTML or XML.\n",
      "\n",
      "If you meant to use Beautiful Soup to parse the web page found at a certain URL, then something has gone wrong. You should use an Python package like 'requests' to fetch the content behind the URL. Once you have the content as a string, you can feed that string into Beautiful Soup.\n",
      "\n",
      "However, if you want to parse some data that happens to look like a URL, then nothing has gone wrong: you are using Beautiful Soup correctly, and this warning is spurious and can be filtered. To make this warning go away, run this code before calling the BeautifulSoup constructor:\n",
      "\n",
      "    from bs4 import MarkupResemblesLocatorWarning\n",
      "    import warnings\n",
      "\n",
      "    warnings.filterwarnings(\"ignore\", category=MarkupResemblesLocatorWarning)\n",
      "    \n",
      "  text = BeautifulSoup(text, \"html.parser\").get_text()\n",
      "d:\\College's course\\Social Media Insight\\IE403.P21-NLPmodel\\DataCleaning_Untils.py:50: MarkupResemblesLocatorWarning: The input passed in on this line looks more like a filename than HTML or XML.\n",
      "\n",
      "If you meant to use Beautiful Soup to parse the contents of a file on disk, then something has gone wrong. You should open the file first, using code like this:\n",
      "\n",
      "    filehandle = open(your filename)\n",
      "\n",
      "You can then feed the open filehandle into Beautiful Soup instead of using the filename.\n",
      "\n",
      "However, if you want to parse some data that happens to look like a filename, then nothing has gone wrong: you are using Beautiful Soup correctly, and this warning is spurious and can be filtered. To make this warning go away, run this code before calling the BeautifulSoup constructor:\n",
      "\n",
      "    from bs4 import MarkupResemblesLocatorWarning\n",
      "    import warnings\n",
      "\n",
      "    warnings.filterwarnings(\"ignore\", category=MarkupResemblesLocatorWarning)\n",
      "    \n",
      "  text = BeautifulSoup(text, \"html.parser\").get_text()\n"
     ]
    }
   ],
   "source": [
    "flag_loader = False # Set to True to load in cleaned csv, else it will clean the data (AGAIN!)\n",
    "\n",
    "if flag_loader:\n",
    "    df = pd.read_csv(os.path.join(os.getcwd(), '..', 'Data', 'Train', 'cleaned_train.csv'))\n",
    "else:\n",
    "    # Clean the comments\n",
    "    df['comment_text'] = df['comment_text'].apply(clean_comment)\n",
    "    # Save the cleaned data\n",
    "    df.to_csv(os.path.join(os.getcwd(), '..', 'Data', 'Train', 'cleaned_train.csv'), index=False)"
   ]
  },
  {
   "cell_type": "code",
   "execution_count": 6,
   "id": "0712ca70",
   "metadata": {},
   "outputs": [
    {
     "data": {
      "text/html": [
       "<div>\n",
       "<style scoped>\n",
       "    .dataframe tbody tr th:only-of-type {\n",
       "        vertical-align: middle;\n",
       "    }\n",
       "\n",
       "    .dataframe tbody tr th {\n",
       "        vertical-align: top;\n",
       "    }\n",
       "\n",
       "    .dataframe thead th {\n",
       "        text-align: right;\n",
       "    }\n",
       "</style>\n",
       "<table border=\"1\" class=\"dataframe\">\n",
       "  <thead>\n",
       "    <tr style=\"text-align: right;\">\n",
       "      <th></th>\n",
       "      <th>id</th>\n",
       "      <th>comment_text</th>\n",
       "    </tr>\n",
       "  </thead>\n",
       "  <tbody>\n",
       "    <tr>\n",
       "      <th>0</th>\n",
       "      <td>59848</td>\n",
       "      <td>this is so cool its like would you want your mother to read this really great idea well done</td>\n",
       "    </tr>\n",
       "    <tr>\n",
       "      <th>1</th>\n",
       "      <td>59849</td>\n",
       "      <td>thank you this would make my life a lot less anxietyinducing keep it up and dont let anyone get in your way</td>\n",
       "    </tr>\n",
       "    <tr>\n",
       "      <th>2</th>\n",
       "      <td>59852</td>\n",
       "      <td>this is such an urgent design problem kudos to you for taking it on very impressive</td>\n",
       "    </tr>\n",
       "    <tr>\n",
       "      <th>3</th>\n",
       "      <td>59855</td>\n",
       "      <td>is this something ill be able to install on my site when will you be releasing it</td>\n",
       "    </tr>\n",
       "    <tr>\n",
       "      <th>4</th>\n",
       "      <td>59856</td>\n",
       "      <td>hata you guns are a bunch of losers</td>\n",
       "    </tr>\n",
       "  </tbody>\n",
       "</table>\n",
       "</div>"
      ],
      "text/plain": [
       "      id  \\\n",
       "0  59848   \n",
       "1  59849   \n",
       "2  59852   \n",
       "3  59855   \n",
       "4  59856   \n",
       "\n",
       "                                                                                                  comment_text  \n",
       "0                 this is so cool its like would you want your mother to read this really great idea well done  \n",
       "1  thank you this would make my life a lot less anxietyinducing keep it up and dont let anyone get in your way  \n",
       "2                          this is such an urgent design problem kudos to you for taking it on very impressive  \n",
       "3                            is this something ill be able to install on my site when will you be releasing it  \n",
       "4                                                                          hata you guns are a bunch of losers  "
      ]
     },
     "execution_count": 6,
     "metadata": {},
     "output_type": "execute_result"
    }
   ],
   "source": [
    "df.head()"
   ]
  },
  {
   "cell_type": "markdown",
   "id": "9ac2a423",
   "metadata": {},
   "source": [
    "## Sample the Data"
   ]
  },
  {
   "cell_type": "code",
   "execution_count": 7,
   "id": "88ef3bda",
   "metadata": {},
   "outputs": [],
   "source": [
    "flag_test = False # Set to True to go with sample test data, else it will use the full dataset\n",
    "if flag_test:\n",
    "    df = df.sample(3000, random_state=42).reset_index(drop=True)\n",
    "else: \n",
    "    df = df.sample(100000, random_state=42).reset_index(drop=True)\n",
    "\n",
    "df = df[df[\"comment_text\"].notnull()]\n",
    "comments = df[\"comment_text\"].astype(str).tolist()"
   ]
  },
  {
   "cell_type": "markdown",
   "id": "c7348210",
   "metadata": {},
   "source": [
    "# Model Training"
   ]
  },
  {
   "cell_type": "markdown",
   "id": "9163c103",
   "metadata": {},
   "source": [
    "## Data Preparation"
   ]
  },
  {
   "cell_type": "markdown",
   "id": "ac256933",
   "metadata": {},
   "source": [
    "### Scalar feature computation"
   ]
  },
  {
   "cell_type": "code",
   "execution_count": 8,
   "id": "98a184a4",
   "metadata": {},
   "outputs": [
    {
     "name": "stderr",
     "output_type": "stream",
     "text": [
      "Annotating comments:  59%|█████▉    | 58907/100000 [3:50:35<2:58:28,  3.84it/s] Token indices sequence length is longer than the specified maximum sequence length for this model (607 > 512). Running this sequence through the model will result in indexing errors\n",
      "Annotating comments: 100%|██████████| 100000/100000 [6:24:36<00:00,  4.33it/s] \n"
     ]
    }
   ],
   "source": [
    "processed_training_data = annotate_comment(comments)\n",
    "processed_training_data = pd.DataFrame(processed_training_data)\n",
    "processed_training_data['label'] = processed_training_data.apply(auto_label, axis=1)\n",
    "processed_training_data = pd.get_dummies(processed_training_data, columns=['sentiment', 'emotion'])"
   ]
  },
  {
   "cell_type": "code",
   "execution_count": 9,
   "id": "57f3baff",
   "metadata": {},
   "outputs": [
    {
     "name": "stdout",
     "output_type": "stream",
     "text": [
      "<class 'pandas.core.frame.DataFrame'>\n",
      "RangeIndex: 100000 entries, 0 to 99999\n",
      "Data columns (total 19 columns):\n",
      " #   Column              Non-Null Count   Dtype  \n",
      "---  ------              --------------   -----  \n",
      " 0   comment             100000 non-null  object \n",
      " 1   hate_score          100000 non-null  float64\n",
      " 2   toxicity            100000 non-null  float64\n",
      " 3   obscene             100000 non-null  float64\n",
      " 4   identity_attack     100000 non-null  float64\n",
      " 5   insult              100000 non-null  float64\n",
      " 6   threat              100000 non-null  float64\n",
      " 7   sexual_explicit     100000 non-null  float64\n",
      " 8   label               100000 non-null  object \n",
      " 9   sentiment_UNKNOWN   100000 non-null  bool   \n",
      " 10  sentiment_negative  100000 non-null  bool   \n",
      " 11  sentiment_neutral   100000 non-null  bool   \n",
      " 12  sentiment_positive  100000 non-null  bool   \n",
      " 13  emotion_anger       100000 non-null  bool   \n",
      " 14  emotion_fear        100000 non-null  bool   \n",
      " 15  emotion_joy         100000 non-null  bool   \n",
      " 16  emotion_love        100000 non-null  bool   \n",
      " 17  emotion_sadness     100000 non-null  bool   \n",
      " 18  emotion_surprise    100000 non-null  bool   \n",
      "dtypes: bool(10), float64(7), object(2)\n",
      "memory usage: 7.8+ MB\n"
     ]
    }
   ],
   "source": [
    "preprocessed_training_data = processed_training_data.dropna()\n",
    "processed_training_data.info()"
   ]
  },
  {
   "cell_type": "code",
   "execution_count": null,
   "id": "39bee9f2",
   "metadata": {},
   "outputs": [],
   "source": [
    "processed_training_data.to_csv(os.path.join(os.getcwd(), '..', 'Data', 'Train', 'processed_annotated_train.csv'), index=False)"
   ]
  },
  {
   "cell_type": "code",
   "execution_count": 11,
   "id": "92c91590",
   "metadata": {},
   "outputs": [],
   "source": [
    "scalar_feature_cols = [\n",
    "    'hate_score', 'toxicity', 'obscene', 'identity_attack', 'insult', 'threat', 'sexual_explicit',\n",
    "    'sentiment_negative', 'sentiment_neutral', 'sentiment_positive',\n",
    "    'emotion_anger', 'emotion_fear', 'emotion_joy', 'emotion_love', 'emotion_sadness', 'emotion_surprise'\n",
    "]\n",
    "\n",
    "for col in scalar_feature_cols:\n",
    "    processed_training_data[col] = processed_training_data[col].astype(float)\n",
    "\n",
    "label_mapping = {\n",
    "    'keep': 0,  \n",
    "    'delete': 1 \n",
    "}\n",
    "processed_training_data['label'] = processed_training_data['label'].map(label_mapping)"
   ]
  },
  {
   "cell_type": "markdown",
   "id": "b4dcfbda",
   "metadata": {},
   "source": [
    "## Model Preparation"
   ]
  },
  {
   "cell_type": "markdown",
   "id": "25eddc9b",
   "metadata": {},
   "source": [
    "### Fine tune BERT model approach"
   ]
  },
  {
   "cell_type": "markdown",
   "id": "5fa0a917",
   "metadata": {},
   "source": [
    "#### BERT model preparation"
   ]
  },
  {
   "cell_type": "code",
   "execution_count": 12,
   "id": "4cd514aa",
   "metadata": {},
   "outputs": [],
   "source": [
    "# Experiment\n",
    "\n",
    "class BertWithScalarFeatures(nn.Module):\n",
    "    def __init__(self, scalar_feature_dim, num_classes):\n",
    "        super(BertWithScalarFeatures, self).__init__()\n",
    "        self.bert = BertModel.from_pretrained('bert-base-uncased')\n",
    "        self.dropout = nn.Dropout(p=0.3)\n",
    "        self.fc1 = nn.Linear(self.bert.config.hidden_size + scalar_feature_dim, 128)\n",
    "        self.fc2 = nn.Linear(128, num_classes)\n",
    "\n",
    "    def forward(self, input_ids, attention_mask, scalar_features):\n",
    "        # BERT output\n",
    "        outputs = self.bert(input_ids=input_ids, attention_mask=attention_mask)\n",
    "        cls_embedding = outputs.last_hidden_state[:, 0, :]\n",
    "        \n",
    "        combined_features = torch.cat((cls_embedding, scalar_features), dim=1)\n",
    "        x = F.relu(self.fc1(combined_features))\n",
    "        x = self.fc2(x)\n",
    "\n",
    "        return x\n",
    "\n",
    "    def predict_proba(self, input_ids, attention_mask, scalar_features):\n",
    "        logits = self.forward(input_ids, attention_mask, scalar_features)\n",
    "        \n",
    "        probabilities = F.softmax(logits, dim=1)\n",
    "        return probabilities\n",
    "    \n",
    "class CommentDataset(Dataset):\n",
    "    def __init__(self, comments, scalar_features, labels, tokenizer, max_len=128):\n",
    "        self.comments = comments\n",
    "        self.scalar_features = scalar_features\n",
    "        self.labels = labels\n",
    "        self.tokenizer = tokenizer\n",
    "        self.max_len = max_len\n",
    "\n",
    "    def __len__(self):\n",
    "        return len(self.comments)\n",
    "\n",
    "    def __getitem__(self, idx):\n",
    "        comment = self.comments[idx]\n",
    "        scalar_feat = torch.tensor(self.scalar_features[idx], dtype=torch.float)\n",
    "        label = torch.tensor(self.labels[idx], dtype=torch.long)\n",
    "\n",
    "        encoded = self.tokenizer(\n",
    "            comment,\n",
    "            truncation=True,\n",
    "            padding='max_length',\n",
    "            max_length=self.max_len,\n",
    "            return_tensors='pt'\n",
    "        )\n",
    "\n",
    "        input_ids = encoded['input_ids'].squeeze(0)\n",
    "        attention_mask = encoded['attention_mask'].squeeze(0)\n",
    "\n",
    "        return {\n",
    "            'input_ids': input_ids,\n",
    "            'attention_mask': attention_mask,\n",
    "            'scalar_features': scalar_feat,\n",
    "            'label': label\n",
    "        }"
   ]
  },
  {
   "cell_type": "code",
   "execution_count": 13,
   "id": "0490c5ad",
   "metadata": {},
   "outputs": [],
   "source": [
    "tokenizer = BertTokenizer.from_pretrained('bert-base-uncased')\n",
    "\n",
    "comments = processed_training_data['comment'].tolist()\n",
    "\n",
    "scalar_features = processed_training_data[[\n",
    "    'hate_score', 'toxicity', 'obscene', 'identity_attack', 'insult', 'threat', 'sexual_explicit',\n",
    "    'sentiment_negative', 'sentiment_neutral', 'sentiment_positive',\n",
    "    'emotion_anger', 'emotion_fear', 'emotion_joy', 'emotion_love', 'emotion_sadness', 'emotion_surprise'\n",
    "]].values\n",
    "\n",
    "labels = processed_training_data['label'].values\n",
    "\n",
    "X_train_comments, X_val_comments, X_train_scalar, X_val_scalar, y_train, y_val = train_test_split(\n",
    "    comments,\n",
    "    scalar_features,\n",
    "    labels,\n",
    "    test_size=0.2,    # 20% validation\n",
    "    random_state=42,\n",
    "    stratify=labels\n",
    ")\n",
    "\n",
    "train_dataset = CommentDataset(\n",
    "    comments=X_train_comments,\n",
    "    scalar_features=X_train_scalar,\n",
    "    labels=y_train,\n",
    "    tokenizer=tokenizer\n",
    ")\n",
    "\n",
    "val_dataset = CommentDataset(\n",
    "    comments=X_val_comments,\n",
    "    scalar_features=X_val_scalar,\n",
    "    labels=y_val,\n",
    "    tokenizer=tokenizer\n",
    ")\n",
    "\n",
    "train_dataloader = DataLoader(train_dataset, batch_size=16, shuffle=True)\n",
    "val_dataloader = DataLoader(val_dataset, batch_size=16, shuffle=False)"
   ]
  },
  {
   "cell_type": "markdown",
   "id": "0c723411",
   "metadata": {},
   "source": [
    "#### Fine tuning BERT model"
   ]
  },
  {
   "cell_type": "code",
   "execution_count": null,
   "id": "be9ce6c9",
   "metadata": {},
   "outputs": [
    {
     "name": "stderr",
     "output_type": "stream",
     "text": [
      "Xet Storage is enabled for this repo, but the 'hf_xet' package is not installed. Falling back to regular HTTP download. For better performance, install the package with: `pip install huggingface_hub[hf_xet]` or `pip install hf_xet`\n"
     ]
    },
    {
     "name": "stdout",
     "output_type": "stream",
     "text": [
      "Epoch 1 | Loss: 0.2662\n",
      "Epoch 1 | Val Loss: 0.2261 | Val Accuracy: 0.9069\n",
      "Epoch 2 | Loss: 0.1529\n",
      "Epoch 2 | Val Loss: 0.1966 | Val Accuracy: 0.9121\n",
      "Epoch 3 | Loss: 0.0711\n",
      "Epoch 3 | Val Loss: 0.2212 | Val Accuracy: 0.9092\n",
      "Epoch 4 | Loss: 0.0305\n",
      "Epoch 4 | Val Loss: 0.3249 | Val Accuracy: 0.9025\n",
      "Early stopping triggered\n"
     ]
    }
   ],
   "source": [
    "device = torch.device('cuda' if torch.cuda.is_available() else 'cpu')\n",
    "\n",
    "model = BertWithScalarFeatures(scalar_feature_dim=16, num_classes=2)\n",
    "model = model.to(device)\n",
    "\n",
    "optimizer = torch.optim.AdamW(model.parameters(), lr=2e-5, weight_decay=0.01)\n",
    "criterion = nn.CrossEntropyLoss()\n",
    "\n",
    "num_epochs = 5\n",
    "\n",
    "train_losses = []\n",
    "val_losses = []\n",
    "val_accuracies = []\n",
    "\n",
    "best_val_loss = float('inf')\n",
    "patience = 2\n",
    "epochs_no_improve = 0\n",
    "\n",
    "model.train()\n",
    "for epoch in range(num_epochs):\n",
    "    model.train()\n",
    "    total_loss = 0\n",
    "\n",
    "    for batch in train_dataloader:\n",
    "        input_ids = batch['input_ids'].to(device)\n",
    "        attention_mask = batch['attention_mask'].to(device)\n",
    "        scalar_features = batch['scalar_features'].to(device)\n",
    "        labels = batch['label'].to(device)\n",
    "\n",
    "        optimizer.zero_grad()\n",
    "\n",
    "        outputs = model(input_ids=input_ids, attention_mask=attention_mask, scalar_features=scalar_features)\n",
    "\n",
    "        loss = criterion(outputs, labels)\n",
    "        loss.backward()\n",
    "\n",
    "        optimizer.step()\n",
    "\n",
    "        total_loss += loss.item()\n",
    "\n",
    "    avg_loss = total_loss / len(train_dataloader)\n",
    "    train_losses.append(avg_loss)\n",
    "    print(f\"Epoch {epoch + 1} | Loss: {avg_loss:.4f}\")\n",
    "\n",
    "    model.eval()  \n",
    "    total_val_loss = 0\n",
    "    correct_predictions = 0\n",
    "\n",
    "    with torch.no_grad():  \n",
    "        for batch in val_dataloader:\n",
    "            input_ids = batch['input_ids'].to(device)\n",
    "            attention_mask = batch['attention_mask'].to(device)\n",
    "            scalar_features = batch['scalar_features'].to(device)\n",
    "            labels = batch['label'].to(device)\n",
    "\n",
    "            outputs = model(input_ids=input_ids, attention_mask=attention_mask, scalar_features=scalar_features)\n",
    "\n",
    "            loss = criterion(outputs, labels)\n",
    "            total_val_loss += loss.item()\n",
    "\n",
    "            _, predicted = torch.max(outputs, dim=1)\n",
    "            correct_predictions += (predicted == labels).sum().item()\n",
    "\n",
    "    avg_val_loss = total_val_loss / len(val_dataloader)\n",
    "    val_accuracy = correct_predictions / len(val_dataloader.dataset)\n",
    "    val_losses.append(avg_val_loss)\n",
    "    val_accuracies.append(val_accuracy)\n",
    "\n",
    "\n",
    "    print(f\"Epoch {epoch + 1} | Val Loss: {avg_val_loss:.4f} | Val Accuracy: {val_accuracy:.4f}\")\n",
    "\n",
    "    checkpoint_path = f\"../checkpoints/checkpoint_epoch_{epoch + 1}.pt\"\n",
    "    torch.save({\n",
    "        'epoch': epoch + 1,\n",
    "        'model_state_dict': model.state_dict(),\n",
    "        'optimizer_state_dict': optimizer.state_dict(),\n",
    "        'train_loss': avg_loss,\n",
    "        'val_loss': avg_val_loss,\n",
    "        'val_accuracy': val_accuracy\n",
    "    }, checkpoint_path)\n",
    "\n",
    "    if avg_val_loss < best_val_loss:\n",
    "        best_val_loss = avg_val_loss\n",
    "        epochs_no_improve = 0\n",
    "        torch.save(model.state_dict(), \"../inference/model/best_model.pt\")\n",
    "    else:\n",
    "        epochs_no_improve += 1\n",
    "        if epochs_no_improve >= patience:\n",
    "            print(\"Early stopping triggered\")\n",
    "            break"
   ]
  },
  {
   "cell_type": "markdown",
   "id": "4acf4aaa",
   "metadata": {},
   "source": [
    "#### Fine tune BERT Evaluation"
   ]
  },
  {
   "cell_type": "code",
   "execution_count": 19,
   "id": "6e735eea",
   "metadata": {},
   "outputs": [
    {
     "data": {
      "image/png": "[encoded data removed]",
      "text/plain": [
       "<Figure size 1200x600 with 2 Axes>"
      ]
     },
     "metadata": {},
     "output_type": "display_data"
    }
   ],
   "source": [
    "epochs = range(1, len(train_losses) + 1)\n",
    "\n",
    "plt.figure(figsize=(12, 6))\n",
    "\n",
    "# Loss plot\n",
    "plt.subplot(1, 2, 1)\n",
    "plt.plot(epochs, train_losses, label='Train Loss', color='blue')\n",
    "plt.plot(epochs, val_losses, label='Validation Loss', color='red')\n",
    "plt.xlabel('Epochs')\n",
    "plt.ylabel('Loss')\n",
    "plt.title('Train and Validation Loss')\n",
    "plt.legend()\n",
    "\n",
    "# Accuracy plot\n",
    "plt.subplot(1, 2, 2)\n",
    "plt.plot(epochs, val_accuracies, label='Validation Accuracy', color='green')\n",
    "plt.xlabel('Epochs')\n",
    "plt.ylabel('Accuracy')\n",
    "plt.title('Validation Accuracy')\n",
    "plt.legend()\n",
    "\n",
    "plt.tight_layout()\n",
    "plt.show()"
   ]
  },
  {
   "cell_type": "code",
   "execution_count": 20,
   "id": "61666d53",
   "metadata": {},
   "outputs": [
    {
     "name": "stdout",
     "output_type": "stream",
     "text": [
      "Validation Loss: 0.3249\n",
      "Validation Accuracy: 0.9025\n",
      "Precision: 0.6242\n",
      "Recall: 0.6189\n",
      "F1-Score: 0.6215\n",
      "Confusion Matrix:\n",
      "[[16449   964]\n",
      " [  986  1601]]\n"
     ]
    },
    {
     "data": {
      "image/png": "[encoded data removed]",
      "text/plain": [
       "<Figure size 600x600 with 2 Axes>"
      ]
     },
     "metadata": {},
     "output_type": "display_data"
    }
   ],
   "source": [
    "model.eval()  # Ensure the model is in eval mode\n",
    "total_val_loss = 0\n",
    "correct_predictions = 0\n",
    "all_preds = []\n",
    "all_labels = []\n",
    "y_probs = []\n",
    "y_true = []\n",
    "\n",
    "\n",
    "with torch.no_grad():\n",
    "    for batch in val_dataloader:\n",
    "        input_ids = batch['input_ids'].to(device)\n",
    "        attention_mask = batch['attention_mask'].to(device)\n",
    "        scalar_features = batch['scalar_features'].to(device)\n",
    "        labels = batch['label'].to(device)\n",
    "\n",
    "        outputs = model(input_ids=input_ids, attention_mask=attention_mask, scalar_features=scalar_features)\n",
    "        loss = criterion(outputs, labels)\n",
    "        total_val_loss += loss.item()\n",
    "\n",
    "        # Get predicted labels\n",
    "        _, predicted = torch.max(outputs, dim=1)\n",
    "        all_preds.extend(predicted.cpu().numpy())\n",
    "        all_labels.extend(labels.cpu().numpy())\n",
    "\n",
    "        correct_predictions += (predicted == labels).sum().item()\n",
    "\n",
    "        probs = model.predict_proba(input_ids, attention_mask, scalar_features)\n",
    "        y_probs.extend(probs[:, 1].cpu().numpy())  # Probability of class 1\n",
    "        y_true.extend(labels.cpu().numpy())\n",
    "\n",
    "# Calculate average validation loss and accuracy\n",
    "avg_val_loss = total_val_loss / len(val_dataloader)\n",
    "val_accuracy = correct_predictions / len(val_dataloader.dataset)\n",
    "\n",
    "# Calculate precision, recall, and F1-score\n",
    "precision, recall, f1, _ = precision_recall_fscore_support(all_labels, all_preds, average='binary')\n",
    "\n",
    "# Print evaluation statistics\n",
    "print(f\"Validation Loss: {avg_val_loss:.4f}\")\n",
    "print(f\"Validation Accuracy: {val_accuracy:.4f}\")\n",
    "print(f\"Precision: {precision:.4f}\")\n",
    "print(f\"Recall: {recall:.4f}\")\n",
    "print(f\"F1-Score: {f1:.4f}\")\n",
    "\n",
    "# Confusion Matrix\n",
    "conf_matrix = confusion_matrix(all_labels, all_preds)\n",
    "print(f\"Confusion Matrix:\\n{conf_matrix}\")\n",
    "\n",
    "# Plot Confusion Matrix\n",
    "plt.figure(figsize=(6, 6))\n",
    "sns.heatmap(conf_matrix, annot=True, fmt='d', cmap='Blues', xticklabels=['Class 0', 'Class 1'], yticklabels=['Class 0', 'Class 1'])\n",
    "plt.xlabel('Predicted Labels')\n",
    "plt.ylabel('True Labels')\n",
    "plt.title('Confusion Matrix')\n",
    "plt.show()"
   ]
  },
  {
   "cell_type": "code",
   "execution_count": 21,
   "id": "7d356fee",
   "metadata": {},
   "outputs": [
    {
     "data": {
      "image/png": "[encoded data removed]",
      "text/plain": [
       "<Figure size 700x700 with 1 Axes>"
      ]
     },
     "metadata": {},
     "output_type": "display_data"
    }
   ],
   "source": [
    "class_counts = processed_training_data['label'].value_counts()\n",
    "\n",
    "plt.figure(figsize=(7, 7))\n",
    "plt.pie(class_counts, labels=class_counts.index, autopct='%1.1f%%', startangle=90, colors=['lightblue', 'lightcoral'])\n",
    "plt.title('Class Distribution')\n",
    "plt.show()"
   ]
  },
  {
   "cell_type": "code",
   "execution_count": 22,
   "id": "b206df74",
   "metadata": {},
   "outputs": [
    {
     "data": {
      "image/png": "[encoded data removed]",
      "text/plain": [
       "<Figure size 800x600 with 1 Axes>"
      ]
     },
     "metadata": {},
     "output_type": "display_data"
    }
   ],
   "source": [
    "metrics = ['Precision', 'Recall', 'F1-Score']\n",
    "scores = [precision, recall, f1]\n",
    "\n",
    "# Bar chart for evaluation metrics\n",
    "plt.figure(figsize=(8, 6))\n",
    "plt.bar(metrics, scores, color=['blue', 'orange', 'green'])\n",
    "plt.ylim(0, 1)\n",
    "plt.title('Model Evaluation Metrics')\n",
    "plt.xlabel('Metrics')\n",
    "plt.ylabel('Scores')\n",
    "plt.show()"
   ]
  },
  {
   "cell_type": "code",
   "execution_count": 23,
   "id": "a79b96af",
   "metadata": {},
   "outputs": [
    {
     "data": {
      "image/png": "[encoded data removed]",
      "text/plain": [
       "<Figure size 800x600 with 1 Axes>"
      ]
     },
     "metadata": {},
     "output_type": "display_data"
    }
   ],
   "source": [
    "fpr, tpr, thresholds = roc_curve(y_true, y_probs)\n",
    "roc_auc = auc(fpr, tpr)\n",
    "\n",
    "# Plot ROC curve\n",
    "plt.figure(figsize=(8, 6))\n",
    "plt.plot(fpr, tpr, color='darkorange', lw=2, label='ROC curve (area = %0.2f)' % roc_auc)\n",
    "plt.plot([0, 1], [0, 1], color='navy', lw=2, linestyle='--')\n",
    "plt.xlim([0.0, 1.0])\n",
    "plt.ylim([0.0, 1.05])\n",
    "plt.xlabel('False Positive Rate')\n",
    "plt.ylabel('True Positive Rate')\n",
    "plt.title('Receiver Operating Characteristic (ROC) Curve')\n",
    "plt.legend(loc='lower right')\n",
    "plt.show()"
   ]
  },
  {
   "cell_type": "code",
   "execution_count": 24,
   "id": "1bbbe6b2",
   "metadata": {},
   "outputs": [
    {
     "data": {
      "image/png": "[encoded data removed]",
      "text/plain": [
       "<Figure size 800x600 with 1 Axes>"
      ]
     },
     "metadata": {},
     "output_type": "display_data"
    }
   ],
   "source": [
    "precision, recall, thresholds = precision_recall_curve(y_true, y_probs)\n",
    "\n",
    "# Plot Precision-Recall curve\n",
    "plt.figure(figsize=(8, 6))\n",
    "plt.plot(recall, precision, color='blue', lw=2)\n",
    "plt.xlabel('Recall')\n",
    "plt.ylabel('Precision')\n",
    "plt.title('Precision-Recall Curve')\n",
    "plt.show()"
   ]
  },
  {
   "cell_type": "markdown",
   "id": "05b35a27",
   "metadata": {},
   "source": [
    "#### Testing the model on a single comment"
   ]
  },
  {
   "cell_type": "code",
   "execution_count": 25,
   "id": "fa8c3104",
   "metadata": {},
   "outputs": [
    {
     "data": {
      "text/plain": [
       "{'comment': 'fuck you!',\n",
       " 'sentiment': 'negative',\n",
       " 'hate_score': 0.09883923083543777,\n",
       " 'emotion': 'anger',\n",
       " 'toxicity': 0.0,\n",
       " 'obscene': 0.9928935170173645,\n",
       " 'identity_attack': 0.0,\n",
       " 'insult': 0.9431484937667847,\n",
       " 'threat': 0.0037716615479439497,\n",
       " 'sexual_explicit': 0.0}"
      ]
     },
     "execution_count": 25,
     "metadata": {},
     "output_type": "execute_result"
    }
   ],
   "source": [
    "test_str = singular_comment_without_annotation(\"fuck you!\")\n",
    "test_str"
   ]
  },
  {
   "cell_type": "code",
   "execution_count": 26,
   "id": "b6150447",
   "metadata": {},
   "outputs": [],
   "source": [
    "def predict_single_comment_with_features(test_dict, model, tokenizer, device):\n",
    "    model.eval()\n",
    "\n",
    "    comment = test_dict['comment']\n",
    "\n",
    "    # 1. Tokenize text\n",
    "    inputs = tokenizer(comment, return_tensors='pt', truncation=True, max_length=128, padding='max_length')\n",
    "    input_ids = inputs['input_ids'].to(device)\n",
    "    attention_mask = inputs['attention_mask'].to(device)\n",
    "\n",
    "    # 2. Build scalar feature vector\n",
    "    scalar_features = np.array([\n",
    "        test_dict['hate_score'],\n",
    "        test_dict['toxicity'],\n",
    "        test_dict['obscene'],\n",
    "        test_dict['identity_attack'],\n",
    "        test_dict['insult'],\n",
    "        test_dict['threat'],\n",
    "        test_dict['sexual_explicit'],\n",
    "        1.0 if test_dict['sentiment'] == 'negative' else 0.0,\n",
    "        1.0 if test_dict['sentiment'] == 'neutral' else 0.0,\n",
    "        1.0 if test_dict['sentiment'] == 'positive' else 0.0,\n",
    "        1.0 if test_dict['emotion'] == 'anger' else 0.0,\n",
    "        1.0 if test_dict['emotion'] == 'fear' else 0.0,\n",
    "        1.0 if test_dict['emotion'] == 'joy' else 0.0,\n",
    "        1.0 if test_dict['emotion'] == 'love' else 0.0,\n",
    "        1.0 if test_dict['emotion'] == 'sadness' else 0.0,\n",
    "        1.0 if test_dict['emotion'] == 'surprise' else 0.0\n",
    "    ], dtype=np.float32)\n",
    "\n",
    "    scalar_features = torch.tensor(scalar_features).unsqueeze(0).to(device)  # shape (1, 16)\n",
    "\n",
    "    # 3. Predict\n",
    "    with torch.no_grad():\n",
    "        outputs = model(input_ids=input_ids, attention_mask=attention_mask, scalar_features=scalar_features)\n",
    "        probs = torch.softmax(outputs, dim=1)\n",
    "        pred_label = torch.argmax(probs, dim=1).item()\n",
    "\n",
    "    return pred_label, probs.cpu().numpy()"
   ]
  },
  {
   "cell_type": "code",
   "execution_count": 27,
   "id": "77877d30",
   "metadata": {},
   "outputs": [
    {
     "name": "stdout",
     "output_type": "stream",
     "text": [
      "Predicted label: delete\n",
      "Probabilities: [[3.396267e-04 9.996604e-01]]\n"
     ]
    }
   ],
   "source": [
    "test_str = singular_comment_without_annotation(clean_comment(\"suck yor dick! This article is aass!\"))\n",
    "pred_label, probabilities = predict_single_comment_with_features(test_str, model, tokenizer, device)\n",
    "\n",
    "label_map = {0: \"keep\", 1: \"delete\"}\n",
    "print(f\"Predicted label: {label_map[pred_label]}\")\n",
    "print(f\"Probabilities: {probabilities}\")"
   ]
  }
 ],
 "metadata": {
  "kernelspec": {
   "display_name": "Python 3",
   "language": "python",
   "name": "python3"
  },
  "language_info": {
   "codemirror_mode": {
    "name": "ipython",
    "version": 3
   },
   "file_extension": ".py",
   "mimetype": "text/x-python",
   "name": "python",
   "nbconvert_exporter": "python",
   "pygments_lexer": "ipython3",
   "version": "3.12.9"
  }
 },
 "nbformat": 4,
 "nbformat_minor": 5
}
